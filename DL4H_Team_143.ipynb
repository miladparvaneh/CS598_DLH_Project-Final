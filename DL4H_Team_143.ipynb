{
  "nbformat": 4,
  "nbformat_minor": 0,
  "metadata": {
    "colab": {
      "provenance": [],
      "machine_shape": "hm"
    },
    "kernelspec": {
      "name": "python3",
      "display_name": "Python 3"
    },
    "language_info": {
      "name": "python"
    }
  },
  "cells": [
    {
      "cell_type": "markdown",
      "source": [
        "# An attention based deep learning model of clinical events in the intensive care unit\n",
        "\n",
        "---\n",
        "\n",
        "* Name: Milad Parvaneh\n",
        "* NetID: sparva2\n",
        "* Team ID: 143\n",
        "* Paper ID: 50\n",
        "* Link to a public Github repository: https://github.com/miladparvaneh/CS598_DLH_Project-Final.git\n",
        "* Youtube video link: https://youtu.be/u315mU2CakY"
      ],
      "metadata": {
        "id": "Fg8Q6F_yWfUO"
      }
    },
    {
      "cell_type": "markdown",
      "source": [
        "## Notes\n",
        "\n",
        "* The ipynb file reads the input data from 'patient_data.pkl'. I was not able to upload the file into GitHub since its size is 67.4 MB (over 25 MB limit). Therefore, I am sharing the Google Drive link for the file, which is located at: https://drive.google.com/file/d/1-0tVA6x9EhKw_dW99UiD5_uaZmHL_9Pv/view?usp=sharing."
      ],
      "metadata": {
        "id": "o9tcWt3vs8fk"
      }
    },
    {
      "cell_type": "markdown",
      "source": [
        "# Introduction\n",
        "\n",
        "*   Background of the problem\n",
        "\n",
        "  * Problem type: For my course project, I selected a study, from the provided list of papers, that employs a deep learning model for three prediction tasks in the intensive care unit (ICU) setting [1]. The paper uses long short-term memory (LSTM) equipped with an attention mechanism to predict clinical events, including daily sepsis, myocardial infarction, and vancomycin antibiotic administration.\n",
        "\n",
        "  * Importance/meaning of solving the problem: Healthcare professionals in ICUs are required to process vast amounts of real-time data to make accurate diagnoses and implement the right treatments. With the rising admissions to ICUs, it becomes crucial to equip them with support tools for effective care delivery.\n",
        "\n",
        "  * The difficulty of the problem: Traditional computer-assisted decision support systems in healthcare mainly rely on scoring systems derived from feature selection and logistic or hazard regression. These systems often perform poorly when applied to outcomes they were not designed to predict [2-3]. Additionally, they struggle to capture the non-linear relationships, which are common in healthcare topics. Despite the potential of traditional machine learning models to address these issues, their lack of interpretability has led to a preference for more transparent linear models in the past.\n",
        "\n",
        "  * The state of the art methods and effectiveness: Machine learning (ML) prediction models, trained on relevant datasets, offer valuable assistance for these purposes. Within the array of ML techniques, deep learning in particular has demonstrated promising capabilities.\n",
        "\n",
        "*   Paper explanation\n",
        "\n",
        "  * What did the paper propose? The study [1] suggests training a recurrent neural network (RNN) in the form of LSTM with the inclusion of a variable-level attention mechanism.\n",
        "\n",
        "  * What is the innovations of the method? The study claims that by integrating a variable-level attention mechanism, interpretability can be achieved directly at the input variable level, rather than within a more complex and less interpretable embedded space. To be more specific, this approach allows for variable-level attention, providing insights into which input variables, such as vital signs, lab results, medications, were most influential at different points in time for the model predictions.\n",
        "\n",
        "  * How well the proposed method work (in its own metrics)? The study's deep learning model demonstrated robust performance in predicting three clinical events in an ICU setting: sepsis, myocardial infarction (MI), and vancomycin administration. The predictive performance of the model was measured using the area under the receiver operating characteristic curve (AUC), a common metric in machine learning for evaluating the accuracy of a binary classifier.\n",
        "\n",
        "          * Sepsis Prediction:\n",
        "\n",
        "          Same-day AUC: 0.952\n",
        "          Next-day AUC: 0.876\n",
        "\n",
        "          * Myocardial Infarction (MI) Prediction:\n",
        "\n",
        "          Same-day AUC: 0.834\n",
        "          Next-day AUC: 0.823\n",
        "\n",
        "          * Vancomycin Administration Prediction:\n",
        "\n",
        "          Same-day AUC: 0.904\n",
        "          Next-day AUC: 0.833\n",
        "\n",
        "  * What are the contributions to the research regime (referring the Background above, how important the paper is to the problem)? The major contributions of this research to the clinical and machine learning fields include:\n",
        "\n",
        "          * Introduction of Attention Mechanisms in ICU Event Prediction\n",
        "          * Enhanced Interpretability\n",
        "          * High Predictive Performance\n",
        "          * Potential for Real-time Clinical Decision Support\n",
        "\n",
        "        These contributions demonstrate a significant advancement in applying deep learning techniques to critical care, potentially leading to more informed and timely clinical decisions in ICUs."
      ],
      "metadata": {
        "id": "Jrd_aLEhWqKc"
      }
    },
    {
      "cell_type": "markdown",
      "source": [
        "# Scope of reproducibility:\n",
        "\n",
        "The study explores whether LSTMs, with an added variable-level attention mechanism, can effectively predict clinical outcomes in the ICU based on available patient data. This method seeks to make model interpretations more accessible for clinicians by highlighting critical daily data alongside the patient's ongoing clinical progression. Here are some highlights of what the study tries to investigate:\n",
        "\n",
        "\n",
        "1.   Predicting clinical events with LSTM: The study hypothesizes that LSTM, trained on a comprehensive set of ICU admission variables, can accurately predict a variety of clinical events. This is a base hypothesis for this research, suggesting that deep learning can effectively handle the temporal and complex nature of ICU data to make meaningful predictions.\n",
        "\n",
        "2.   Enhancement of model interpretability through variable-level attention: A key hypothesis of the study is that incorporating a variable-level attention mechanism can significantly enhance the interpretability of LSTM predictions for clinicians. Unlike traditional deep learning models that may act as black boxes, the attention mechanism is expected to highlight the input variables, e.g., vital signs, lab results, medications, that are most influential in making predictions at any given time. This approach seems to mirror the clinical decision-making process, where clinicians focus on the most pertinent information to diagnose and treat patients.\n",
        "\n",
        "3.   Generalizability across different clinical outcomes: The research, implicitly, tests the hypothesis that a single deep learning architecture can be generalized to predict multiple clinical events, such as sepsis, myocardial infarction, and the administration of the antibiotic vancomycin. This hypothesis challenges the notion that different clinical outcomes require entirely separate models, suggesting instead that a flexible deep learning approach can accommodate various prediction tasks with appropriate training.\n",
        "\n"
      ],
      "metadata": {
        "id": "2ol_gV7JXKKO"
      }
    },
    {
      "cell_type": "markdown",
      "source": [
        "## Checking computation resources"
      ],
      "metadata": {
        "id": "zfEzKWFZXNCq"
      }
    },
    {
      "cell_type": "code",
      "execution_count": 39,
      "metadata": {
        "colab": {
          "base_uri": "https://localhost:8080/"
        },
        "id": "nILwgLk9vGb_",
        "outputId": "83bfea3e-6096-44d8-fc6e-6464fb30e731"
      },
      "outputs": [
        {
          "output_type": "stream",
          "name": "stdout",
          "text": [
            "Your runtime has 54.8 gigabytes of available RAM\n",
            "\n",
            "You are using a high-RAM runtime!\n"
          ]
        }
      ],
      "source": [
        "from psutil import virtual_memory\n",
        "ram_gb = virtual_memory().total / 1e9\n",
        "print('Your runtime has {:.1f} gigabytes of available RAM\\n'.format(ram_gb))\n",
        "\n",
        "if ram_gb < 20:\n",
        "  print('Not using a high-RAM runtime')\n",
        "else:\n",
        "  print('You are using a high-RAM runtime!')"
      ]
    },
    {
      "cell_type": "markdown",
      "source": [
        "# Methodology"
      ],
      "metadata": {
        "id": "dd0CJglnXxn9"
      }
    },
    {
      "cell_type": "markdown",
      "source": [
        "## Environment\n",
        "\n",
        "* Python version: The Python version used in my current google colab notebook is 3.10.12."
      ],
      "metadata": {
        "id": "Bn43iwn6lSb8"
      }
    },
    {
      "cell_type": "code",
      "source": [
        "import sys\n",
        "print(sys.version)"
      ],
      "metadata": {
        "colab": {
          "base_uri": "https://localhost:8080/"
        },
        "id": "cshKGmNmlY6y",
        "outputId": "91c6a757-559f-4ba7-e7a6-b711d11be11a"
      },
      "execution_count": 130,
      "outputs": [
        {
          "output_type": "stream",
          "name": "stdout",
          "text": [
            "3.10.12 (main, Nov 20 2023, 15:14:05) [GCC 11.4.0]\n"
          ]
        }
      ]
    },
    {
      "cell_type": "markdown",
      "source": [
        "## Dependencies/packages needed\n",
        "\n",
        "This project uses many capabilities of the PyHealth package. In addition, many typical libraries used in common data processing and deep learning tasks are used, including Numpy, PyTorch, and Matplotlib."
      ],
      "metadata": {
        "id": "NE4TPsPhtk3A"
      }
    },
    {
      "cell_type": "markdown",
      "source": [
        "### Install required packages"
      ],
      "metadata": {
        "id": "S-Qo-uJXXh-B"
      }
    },
    {
      "cell_type": "code",
      "source": [
        "!pip install pyhealth"
      ],
      "metadata": {
        "id": "407fTKlEva7z"
      },
      "execution_count": null,
      "outputs": []
    },
    {
      "cell_type": "markdown",
      "source": [
        "### Import required libraries"
      ],
      "metadata": {
        "id": "2IyvqETfXmqf"
      }
    },
    {
      "cell_type": "code",
      "source": [
        "import random\n",
        "import pickle\n",
        "import numpy as np\n",
        "import pandas as pd\n",
        "from google.colab import drive\n",
        "from pyhealth.datasets import MIMIC3Dataset\n",
        "from torch.utils.data import Dataset\n",
        "from torch.utils.data.dataset import random_split\n",
        "from torch.utils.data import DataLoader\n",
        "import torch\n",
        "import torch.nn as nn\n",
        "import torch.nn.functional as F\n",
        "from torch.optim import Adam\n",
        "from sklearn.metrics import precision_recall_fscore_support, roc_auc_score\n",
        "import matplotlib.pyplot as plt\n",
        "import seaborn as sns"
      ],
      "metadata": {
        "id": "Mkjn2TgTwycH"
      },
      "execution_count": 141,
      "outputs": []
    },
    {
      "cell_type": "code",
      "source": [
        "drive.mount('/content/drive')"
      ],
      "metadata": {
        "colab": {
          "base_uri": "https://localhost:8080/"
        },
        "id": "JSqpGd8qw78K",
        "outputId": "04c1b1f4-82ad-467d-efd2-beed6acee542"
      },
      "execution_count": null,
      "outputs": [
        {
          "output_type": "stream",
          "name": "stdout",
          "text": [
            "Mounted at /content/drive\n"
          ]
        }
      ]
    },
    {
      "cell_type": "markdown",
      "source": [
        "##  Data\n",
        "\n",
        "  * Source of the data: The data used in this project is the MIMIC-III dataset [4-5]. The MIMIC-III dataset consists of anonymized data for over 40,000 patients from critical care units at Beth Israel Deaconess Medical Center from 2001 to 2012. It features patient demographics, hourly vital signs, lab results, procedures, medications, caregiver notes, imaging reports, and mortality information, including after hospital discharge. Although MIMIC-III is de-identified, it still needs user training before access can be granted. For that matter, I passed the ‘Data or Specimens Only Research’ course provided by the CITI program. I, then, applied and was approved for dataset access through PhysioNet.\n",
        "\n",
        "  * Input data statistics are printed out in the corresponding code snippet below.\n",
        "\n",
        "  * Data process:\n",
        "    * Among the three prediction tasks defined for this project, I dicided to work on sepsis prediction. Checking the raw dataset, it turns out that only around 10% of the patients are diagnosed with sepsis (class imbalance). With 90% of the data belonging to the negative class, a machine learning model might learn to predominantly predict the majority class because doing so would still yield a high overall accuracy. For example, a naive model that always predicts 'negative' would be correct 90% of the time, misleadingly suggesting high performance. The model may fail to capture the patterns and characteristics of the positive class due to its underrepresentation. This often results in poor generalization capabilities when encountering new positive samples outside of the training set. Several techniques can be used to mitigate the effects of class imbalance, one of which is reducing the number of negative samples to balance the dataset. Here, I decided to drop a portion of negative samples and *randomly* keep around 14'000 which leads to 25% positive samples rate.\n",
        "\n",
        "    * Additionally, including sepsis diagnosis codes directly within the input features (seqs) could bias the model. The model might learn simply to look for those codes rather than identifying patterns that predict sepsis before it's officially diagnosed. To make the model more practical and robust, it's a good idea to remove the sepsis-related diagnosis codes from the seqs before using them as input for training.\n",
        "\n",
        "    * The dataset is splitted to train/valid sets as 80/20.\n",
        "\n",
        "    * For the sepsis prediction task, the diagnosis, procedures, medications, and laboratory measurement instances within each visit for a given patient are considered as the input features."
      ],
      "metadata": {
        "id": "x8hUTo8GX20y"
      }
    },
    {
      "cell_type": "markdown",
      "source": [
        "Based on the features list provided by the paper (not included in the paper manuscript, but can be downloaded from the paper webpage and also available at the project GitHub link as final-feature-list-from-paper.pdf), here's a breakdown of which tables from the MIMIC-III dataset we may need to access to extract each type of feature:\n",
        "\n",
        "### Complete Blood Count and Differential:\n",
        "* Table: LABEVENTS\n",
        "* This table contains results from laboratory tests and would cover items such as red blood cells (RBCs), white blood cells (WBCs), platelets, hemoglobin, hematocrit, and various types of leukocytes (neutrophils, lymphocytes, etc.).\n",
        "\n",
        "### Vitals:\n",
        "* Table: CHARTEVENTS\n",
        "* Vital signs like temperature, heart rate, respiratory rate, blood pressure, and pulse oximetry are usually found in the CHARTEVENTS table, which records all charted data related to patient care.\n",
        "\n",
        "### Labs:\n",
        "* Table: LABEVENTS\n",
        "* Lab results such as troponin, HDL, LDL, BUN, creatinine, glucose, and electrolytes (sodium, potassium, chloride) are also located in LABEVENTS.\n",
        "\n",
        "### Cultures and Other Tests:\n",
        "* Table: MICROBIOLOGYEVENTS\n",
        "* This table is used for microbiological tests and would include blood, urine, sputum, and wound cultures.\n",
        "\n",
        "### Respiratory Settings:\n",
        "* Table: CHARTEVENTS\n",
        "* Settings like inspired O2 fraction, PEEP set, tidal volume, and other ventilator settings are found in CHARTEVENTS.\n",
        "\n",
        "### Demographics:\n",
        "* Table: PATIENTS and ADMISSIONS\n",
        "* Information such as age, gender, and race can be derived from these tables. Age might need to be calculated from the date of birth provided in the PATIENTS table in relation to the admission date in the ADMISSIONS table.\n",
        "\n",
        "### Medications:\n",
        "* Table: PRESCRIPTIONS\n",
        "* This table contains details about medications prescribed to the patient during their stay, covering all the listed drugs like epoetin, warfarin, heparin, etc.\n",
        "\n",
        "However, based on PyHealth documentation at [https://pyhealth.readthedocs.io/en/latest/api/datasets/pyhealth.datasets.MIMIC3Dataset.html], the supported tables are: PATIENTS, ADMISSIONS, DIAGNOSES_ICD, PROCEDURES_ICD, PRESCRIPTIONS, and LABEVENTS. Therefore, I will be using these tables to form the input features. The resultant features will not be identical as those used in the paper; however, this is the closest we can get given the PyHealth MIMIC3Dataset capabilities implemented so far. Also, note that basic tables, PATIENTS and ADMISSIONS, are parsed by default and do not need to be explicitly selected."
      ],
      "metadata": {
        "id": "nk0gNMhkxEFQ"
      }
    },
    {
      "cell_type": "markdown",
      "source": [
        "## Reading Data from Saved File\n",
        "\n",
        "Since importing the raw data and its pre-processing took significant time, I saved the resultant output file to be read later in the code. That is why some code snippets below are commented out. They were initially used to load and process the raw data, and are shown here as a reference. Later in the code, the proceesed data is read from a file named 'patient_data.pkl'."
      ],
      "metadata": {
        "id": "Ha74dafqaxGr"
      }
    },
    {
      "cell_type": "code",
      "source": [
        "#mimic3_ds = MIMIC3Dataset(root = '/content/drive/MyDrive/Colab Notebooks/CS598_DLH_Project_NEW/mimic-iii-clinical-database-1.4',\n",
        "#        tables = ['DIAGNOSES_ICD', 'PROCEDURES_ICD', 'PRESCRIPTIONS', 'LABEVENTS'],\n",
        "#)"
      ],
      "metadata": {
        "colab": {
          "base_uri": "https://localhost:8080/"
        },
        "id": "TKn3nvJjxFDY",
        "outputId": "d2803186-187a-46b4-fd6a-e5671fc88b22"
      },
      "execution_count": null,
      "outputs": [
        {
          "output_type": "stream",
          "name": "stdout",
          "text": [
            "INFO: Pandarallel will run on 4 workers.\n",
            "INFO: Pandarallel will use Memory file system to transfer data between the main process and workers.\n"
          ]
        },
        {
          "output_type": "stream",
          "name": "stderr",
          "text": [
            "/usr/lib/python3.10/multiprocessing/popen_fork.py:66: RuntimeWarning: os.fork() was called. os.fork() is incompatible with multithreaded code, and JAX is multithreaded, so this will likely lead to a deadlock.\n",
            "  self.pid = os.fork()\n"
          ]
        },
        {
          "output_type": "stream",
          "name": "stdout",
          "text": [
            "finish basic patient information parsing : 22.10043740272522s\n"
          ]
        },
        {
          "output_type": "stream",
          "name": "stderr",
          "text": [
            "/usr/lib/python3.10/multiprocessing/popen_fork.py:66: RuntimeWarning: os.fork() was called. os.fork() is incompatible with multithreaded code, and JAX is multithreaded, so this will likely lead to a deadlock.\n",
            "  self.pid = os.fork()\n"
          ]
        },
        {
          "output_type": "stream",
          "name": "stdout",
          "text": [
            "finish parsing DIAGNOSES_ICD : 30.748191595077515s\n"
          ]
        },
        {
          "output_type": "stream",
          "name": "stderr",
          "text": [
            "/usr/lib/python3.10/multiprocessing/popen_fork.py:66: RuntimeWarning: os.fork() was called. os.fork() is incompatible with multithreaded code, and JAX is multithreaded, so this will likely lead to a deadlock.\n",
            "  self.pid = os.fork()\n"
          ]
        },
        {
          "output_type": "stream",
          "name": "stdout",
          "text": [
            "finish parsing PROCEDURES_ICD : 17.25616955757141s\n"
          ]
        },
        {
          "output_type": "stream",
          "name": "stderr",
          "text": [
            "/usr/lib/python3.10/multiprocessing/popen_fork.py:66: RuntimeWarning: os.fork() was called. os.fork() is incompatible with multithreaded code, and JAX is multithreaded, so this will likely lead to a deadlock.\n",
            "  self.pid = os.fork()\n"
          ]
        },
        {
          "output_type": "stream",
          "name": "stdout",
          "text": [
            "finish parsing PRESCRIPTIONS : 133.42394948005676s\n"
          ]
        },
        {
          "output_type": "stream",
          "name": "stderr",
          "text": [
            "/usr/lib/python3.10/multiprocessing/popen_fork.py:66: RuntimeWarning: os.fork() was called. os.fork() is incompatible with multithreaded code, and JAX is multithreaded, so this will likely lead to a deadlock.\n",
            "  self.pid = os.fork()\n"
          ]
        },
        {
          "output_type": "stream",
          "name": "stdout",
          "text": [
            "finish parsing LABEVENTS : 598.4602560997009s\n"
          ]
        },
        {
          "output_type": "stream",
          "name": "stderr",
          "text": [
            "Mapping codes: 100%|██████████| 46520/46520 [00:11<00:00, 3900.31it/s]\n"
          ]
        }
      ]
    },
    {
      "cell_type": "code",
      "source": [
        "#mimic3_ds.info()"
      ],
      "metadata": {
        "colab": {
          "base_uri": "https://localhost:8080/"
        },
        "id": "BcihUHbPxKWv",
        "outputId": "f72a6191-7073-4221-98b3-b239462b1ada"
      },
      "execution_count": null,
      "outputs": [
        {
          "output_type": "stream",
          "name": "stdout",
          "text": [
            "\n",
            "dataset.patients: patient_id -> <Patient>\n",
            "\n",
            "<Patient>\n",
            "    - visits: visit_id -> <Visit> \n",
            "    - other patient-level info\n",
            "    \n",
            "    <Visit>\n",
            "        - event_list_dict: table_name -> List[Event]\n",
            "        - other visit-level info\n",
            "    \n",
            "        <Event>\n",
            "            - code: str\n",
            "            - other event-level info\n",
            "\n"
          ]
        }
      ]
    },
    {
      "cell_type": "code",
      "source": [
        "#with open('/content/drive/MyDrive/Colab Notebooks/CS598_DLH_Project_NEW/mimic3_ds.pkl', 'wb') as f:\n",
        "#    pickle.dump(mimic3_ds, f)"
      ],
      "metadata": {
        "id": "ZFXPVCIY2hjs"
      },
      "execution_count": null,
      "outputs": []
    },
    {
      "cell_type": "code",
      "source": [
        "#with open('/content/drive/MyDrive/Colab Notebooks/CS598_DLH_Project_NEW/mimic3_ds.pkl', 'rb') as f:\n",
        "#    mimic3_ds = pickle.load(f)"
      ],
      "metadata": {
        "id": "KyiZrCZBDSoF"
      },
      "execution_count": null,
      "outputs": []
    },
    {
      "cell_type": "code",
      "source": [
        "#mimic3_ds.info()"
      ],
      "metadata": {
        "colab": {
          "base_uri": "https://localhost:8080/"
        },
        "id": "KoysQR3dm48A",
        "outputId": "978f0ef0-4274-4837-bb5d-53fbb1af3f4e"
      },
      "execution_count": null,
      "outputs": [
        {
          "output_type": "stream",
          "name": "stdout",
          "text": [
            "\n",
            "dataset.patients: patient_id -> <Patient>\n",
            "\n",
            "<Patient>\n",
            "    - visits: visit_id -> <Visit> \n",
            "    - other patient-level info\n",
            "    \n",
            "    <Visit>\n",
            "        - event_list_dict: table_name -> List[Event]\n",
            "        - other visit-level info\n",
            "    \n",
            "        <Event>\n",
            "            - code: str\n",
            "            - other event-level info\n",
            "\n"
          ]
        }
      ]
    },
    {
      "cell_type": "code",
      "source": [
        "#print(len(mimic3_ds.patients))"
      ],
      "metadata": {
        "colab": {
          "base_uri": "https://localhost:8080/"
        },
        "id": "IP-lFE35pSIw",
        "outputId": "a2eff846-83d0-498d-a89e-3f1ca0bfa9b9"
      },
      "execution_count": null,
      "outputs": [
        {
          "output_type": "stream",
          "name": "stdout",
          "text": [
            "46520\n"
          ]
        }
      ]
    },
    {
      "cell_type": "code",
      "source": [
        "#mimic3_ds.patients['10848'].visits['143011'].event_list_dict['PRESCRIPTIONS']"
      ],
      "metadata": {
        "id": "j3xSDhcaphZk"
      },
      "execution_count": null,
      "outputs": []
    },
    {
      "cell_type": "markdown",
      "source": [
        "### TASK: Prediction of sepsis"
      ],
      "metadata": {
        "id": "kzDM5rQSDngH"
      }
    },
    {
      "cell_type": "code",
      "source": [
        "## Define sepsis-related ICD-9 codes\n",
        "#sepsis_codes = {'99591', '78552', '99592'}  # Add more codes as necessary\n",
        "## sepsis_codes = {'4019'}\n",
        "\n",
        "## Initialize a dictionary to hold the sepsis flag for each patient\n",
        "#patient_sepsis_status = {}\n",
        "\n",
        "## Loop through each patient in the MIMIC3Dataset\n",
        "#for patient_id, patient_obj in mimic3_ds.patients.items():\n",
        "#    patient_has_sepsis = False  # Initialize flag for each patient\n",
        "\n",
        "#    # Loop through each visit in the patient's record\n",
        "#    for visit_id, visit_obj in patient_obj.visits.items():\n",
        "#        # Access the list of diagnosis events\n",
        "#        diagnosis_events = visit_obj.event_list_dict.get('DIAGNOSES_ICD', [])\n",
        "\n",
        "#        # Check if any of the diagnosis codes in the events are sepsis-related\n",
        "#        for event in diagnosis_events:\n",
        "#            if event.code in sepsis_codes:\n",
        "#                patient_has_sepsis = True\n",
        "#                break  # Stop checking if sepsis is confirmed\n",
        "\n",
        "#        if patient_has_sepsis:\n",
        "#            break  # Stop checking further visits if sepsis is confirmed\n",
        "\n",
        "#    # Store the sepsis status in the dictionary\n",
        "#    patient_sepsis_status[patient_id] = patient_has_sepsis\n",
        "\n",
        "#number_of_sepsis_patients = sum(patient_sepsis_status.values())\n",
        "\n",
        "#print(\"Number of patients with sepsis:\", number_of_sepsis_patients)"
      ],
      "metadata": {
        "colab": {
          "base_uri": "https://localhost:8080/"
        },
        "id": "3abGQTKEDpTS",
        "outputId": "e57ab710-30c3-402f-8656-4b8762162a71"
      },
      "execution_count": null,
      "outputs": [
        {
          "output_type": "stream",
          "name": "stdout",
          "text": [
            "Number of patients with sepsis: 4689\n"
          ]
        }
      ]
    },
    {
      "cell_type": "code",
      "source": [
        "## Define target numbers based on your description\n",
        "#num_sepsis_patients = number_of_sepsis_patients\n",
        "#num_non_sepsis_patients = 3 * num_sepsis_patients  # This is chosen to be about three times the number of sepsis patients\n",
        "\n",
        "## Separate patient IDs into sepsis and non-sepsis lists\n",
        "#sepsis_patient_ids = [pid for pid, has_sepsis in patient_sepsis_status.items() if has_sepsis]\n",
        "#non_sepsis_patient_ids = [pid for pid, has_sepsis in patient_sepsis_status.items() if not has_sepsis]\n",
        "\n",
        "## Randomly select non-sepsis patients to achieve the desired ratio\n",
        "#random_selected_non_sepsis = random.sample(non_sepsis_patient_ids, num_non_sepsis_patients)\n",
        "\n",
        "## Combine lists\n",
        "#final_patient_ids = sepsis_patient_ids + random_selected_non_sepsis\n",
        "\n",
        "## Shuffle the combined list to mix sepsis and non-sepsis patients\n",
        "#random.shuffle(final_patient_ids)\n",
        "\n",
        "## Initialize containers\n",
        "#pids = []     # List of patient IDs\n",
        "#vids = []     # List of lists, where each sublist contains visit IDs for a patient\n",
        "#sepsis = []   # List of sepsis labels for each patient (0 for normal, 1 for sepsis)\n",
        "#seqs = []     # List of lists of lists for diagnosis codes\n",
        "#procedures = []\n",
        "#prescriptions = []\n",
        "#labs = []\n",
        "\n",
        "## Populate the data structures with the final selected patient IDs\n",
        "#for pid in final_patient_ids:\n",
        "#    patient_obj = mimic3_ds.patients[pid]\n",
        "#    pids.append(pid)\n",
        "#    patient_vids = []\n",
        "#    patient_seqs = []\n",
        "#    patient_procedures = []\n",
        "#    patient_prescriptions = []\n",
        "#    patient_labs = []\n",
        "\n",
        "#    for visit_id, visit_obj in patient_obj.visits.items():\n",
        "#        patient_vids.append(visit_id)\n",
        "\n",
        "#        # Diagnosis codes\n",
        "#        diagnosis_events = visit_obj.event_list_dict.get('DIAGNOSES_ICD', [])\n",
        "\n",
        "#        # Filter out sepsis-related codes\n",
        "#        filtered_codes = [event.code for event in diagnosis_events if event.code not in sepsis_codes]\n",
        "#        patient_seqs.append(filtered_codes)\n",
        "\n",
        "#        # Procedure codes\n",
        "#        procedure_events = visit_obj.event_list_dict.get('PROCEDURES_ICD', [])\n",
        "#        patient_procedures.append([event.code for event in procedure_events])\n",
        "\n",
        "#        # Prescription details\n",
        "#        prescription_events = visit_obj.event_list_dict.get('PRESCRIPTIONS', [])\n",
        "#        patient_prescriptions.append([event.code for event in prescription_events])\n",
        "\n",
        "#        # Lab results\n",
        "#        lab_events = visit_obj.event_list_dict.get('LABEVENTS', [])\n",
        "#        patient_labs.append([event.code for event in lab_events])\n",
        "\n",
        "#    vids.append(patient_vids)\n",
        "#    seqs.append(patient_seqs)\n",
        "#    sepsis.append(1 if patient_sepsis_status[pid] else 0)\n",
        "#    procedures.append(patient_procedures)\n",
        "#    prescriptions.append(patient_prescriptions)\n",
        "#    labs.append(patient_labs)\n",
        "\n",
        "#print(len(pids), len(vids), len(sepsis), len(seqs), len(procedures), len(prescriptions), len(labs))"
      ],
      "metadata": {
        "colab": {
          "base_uri": "https://localhost:8080/"
        },
        "id": "LB0SN1OHEZ0N",
        "outputId": "eba45aa7-54c9-43c3-8653-30628459701f"
      },
      "execution_count": null,
      "outputs": [
        {
          "output_type": "stream",
          "name": "stdout",
          "text": [
            "18756 18756 18756 18756 18756 18756 18756\n"
          ]
        }
      ]
    },
    {
      "cell_type": "code",
      "source": [
        "## Save data using pickle\n",
        "#with open('/content/drive/MyDrive/Colab Notebooks/CS598_DLH_Project_NEW/patient_data.pkl', 'wb') as file:\n",
        "#    pickle.dump({'pids': pids, 'vids': vids, 'sepsis': sepsis, 'seqs': seqs, 'procedures': procedures, 'prescriptions': prescriptions, 'labs': labs}, file)\n",
        "\n",
        "#print(\"Data saved with pickle.\")"
      ],
      "metadata": {
        "colab": {
          "base_uri": "https://localhost:8080/"
        },
        "id": "q3osQuZ1FOxB",
        "outputId": "71fab144-8a5e-4810-c88f-785e6218fc64"
      },
      "execution_count": null,
      "outputs": [
        {
          "output_type": "stream",
          "name": "stdout",
          "text": [
            "Data saved with pickle.\n"
          ]
        }
      ]
    },
    {
      "cell_type": "code",
      "source": [
        "# Load data using pickle\n",
        "#with open('/content/drive/MyDrive/Colab Notebooks/CS598_DLH_Project_NEW/patient_data.pkl', 'rb') as file:\n",
        "#    data_loaded = pickle.load(file)\n",
        "\n",
        "with open('patient_data.pkl', 'rb') as file:\n",
        "    data_loaded = pickle.load(file)\n",
        "\n",
        "pids = data_loaded['pids']\n",
        "vids = data_loaded['vids']\n",
        "sepsis = data_loaded['sepsis']\n",
        "seqs = data_loaded['seqs']\n",
        "procedures = data_loaded['procedures']\n",
        "prescriptions = data_loaded['prescriptions']\n",
        "labs = data_loaded['labs']\n",
        "\n",
        "print(\"Data loaded with pickle.\")"
      ],
      "metadata": {
        "colab": {
          "base_uri": "https://localhost:8080/"
        },
        "id": "ceUqXZXnFu7f",
        "outputId": "6afd6d94-2a9e-46b4-9c0a-8aca69bd545e"
      },
      "execution_count": null,
      "outputs": [
        {
          "output_type": "stream",
          "name": "stdout",
          "text": [
            "Data loaded with pickle.\n"
          ]
        }
      ]
    },
    {
      "cell_type": "markdown",
      "source": [
        "### Sample data instance"
      ],
      "metadata": {
        "id": "vZ6U_7tVcI5c"
      }
    },
    {
      "cell_type": "code",
      "source": [
        "print(\"Patient ID:\", pids[3])\n",
        "print(\"Sepsis status:\", sepsis[3])\n",
        "print(\"# of visits:\", len(vids[3]))\n",
        "for visit in range(len(vids[3])):\n",
        "    print(f\"\\t{visit}-th visit id:\", vids[3][visit])\n",
        "    print(f\"\\t{visit}-th visit diagnosis labels:\", seqs[3][visit])\n",
        "    print(f\"\\t{visit}-th visit procedures:\", procedures[3][visit])\n",
        "    print(f\"\\t{visit}-th visit prescriptions:\", prescriptions[3][visit])\n",
        "    print(f\"\\t{visit}-th visit labs:\", labs[3][visit])"
      ],
      "metadata": {
        "colab": {
          "base_uri": "https://localhost:8080/"
        },
        "id": "HGqRej2wFvzy",
        "outputId": "b0b06ccf-a5de-453f-ff4c-f90fe300136c"
      },
      "execution_count": null,
      "outputs": [
        {
          "output_type": "stream",
          "name": "stdout",
          "text": [
            "Patient ID: 10302\n",
            "Sepsis status: 1\n",
            "# of visits: 2\n",
            "\t0-th visit id: 119529\n",
            "\t0-th visit diagnosis labels: ['0389', '5070', '51881', '20410', '5849', '41071', '2760', '41400', '40390', '5859', '496', '4280', 'V4501', 'V440', '2875', '2767', '28522']\n",
            "\t0-th visit procedures: ['9672', '3893', '3891', '966']\n",
            "\t0-th visit prescriptions: ['60505068104', '00338055318', '0', '00338011704', '63323026201', '00338001704', '00338011704', '00338011704', '00338011704', '00338004938', '46287000660', '00338001704', '00338001704', '00338004904', '00338055318', '00310032520', '63323018410', '66591018442', '63323001302', '00002821501', '49502069724', '00338355248', '0', '10019002710', '00008092355', '00338004938', '54569523500', '10019003783', '00703115303', '00310032520', '00045006601', '00338001702', '0', '00338004902', '0', '00338055318', '00071015892', '63739002401', '10019003867', '00009090020', '0', '00338004904', '63323031110', '00338004903', '00338004903', '0', '00338004902', '63323031110', '63323031110', '63323031110', '00338004938', '00002821501', '00338004938', '63323031110', '00186023003', '00002821501', '46287000660', '0', '00338355248', '51079012620', '0', '00409781124', '0', '46287000660', '00338004904', '10019002710', '00409606211', '00338004902', '00338004938', '0', '10019003783']\n",
            "\t0-th visit labs: ['50861', '50862', '50863', '50867', '50868', '50878', '50882', '50885', '50893', '50902', '50910', '50911', '50912', '50920', '50931', '50954', '50956', '50960', '50970', '50971', '50983', '50993', '50995', '51003', '51006', '51009', '51137', '51144', '51145', '51146', '51196', '51200', '51214', '51221', '51222', '51233', '51237', '51244', '51246', '51248', '51249', '51250', '51252', '51254', '51256', '51260', '51265', '51267', '51268', '51274', '51275', '51277', '51279', '51287', '51296', '51301', '51464', '51466', '51478', '51484', '51486', '51487', '51491', '51492', '51498', '51506', '51508', '51514', '50861', '50863', '50868', '50878', '50882', '50885', '50893', '50902', '50908', '50910', '50911', '50912', '50931', '50960', '50970', '50971', '50983', '51003', '51006', '51137', '51144', '51145', '51146', '51200', '51214', '51221', '51222', '51233', '51244', '51246', '51248', '51249', '51250', '51252', '51254', '51256', '51260', '51265', '51267', '51268', '51275', '51277', '51279', '51287', '51296', '51301', '50800', '50802', '50804', '50806', '50808', '50809', '50810', '50811', '50812', '50813', '50817', '50818', '50820', '50821', '50822', '50824', '50825', '51237', '51274', '51275', '50804', '50808', '50809', '50812', '50813', '50816', '50818', '50819', '50820', '50821', '50825', '50826', '50800', '50802', '50868', '50882', '50893', '50902', '50912', '50931', '50960', '50970', '50971', '50983', '51006', '51214', '51221', '51222', '51237', '51248', '51249', '51250', '51265', '51274', '51275', '51277', '51279', '51301', '50813', '50868', '50882', '50893', '50902', '50912', '50931', '50960', '50970', '50971', '50983', '51006', '51009', '51214', '51221', '51222', '51237', '51248', '51249', '51250', '51265', '51274', '51275', '51277', '51279', '51301', '51274', '51275', '51277', '51279', '51301', '50868', '50882', '50893', '50902', '50912', '50931', '50960', '50970', '50971', '50983', '51006', '51221', '51222', '51237', '51248', '51249', '51250', '51265', '50868', '50882', '50893', '50902', '50912', '50931', '50960', '50970', '50971', '50983', '51006', '51009', '50800', '50802', '50804', '50808', '50813', '50818', '50820', '50821', '50800', '50802', '50804', '50812', '50816', '50818', '50819', '50820', '50821', '50827', '50868', '50882', '50893', '50902', '50912', '50931', '50960', '50970', '50971', '50983', '51006', '51009', '51221', '51222', '51237', '51248', '51249', '51250', '51265', '51274', '51275', '51277', '51279', '51301', '50800', '50802', '50804', '50808', '50818', '50820', '50821', '50868', '50882', '50893', '50902', '50912', '50931', '50960', '50970', '50971', '50983', '51006', '51009', '51137', '51143', '51144', '51146', '51200', '51214', '51221', '51222', '51233', '51237', '51244', '51246', '51248', '51249', '51250', '51251', '51252', '51254', '51255', '51256', '51257', '51260', '51265', '51266', '51267', '51268', '51274', '51275', '51277', '51279', '51301', '50800', '50802', '50804', '50808', '50809', '50818', '50820', '50821', '51082', '51087', '51093', '51100', '51104', '51463', '51464', '51466', '51476', '51478', '51479', '51484', '51486', '51487', '51491', '51492', '51493', '51498', '51506', '51508', '51512', '51514', '51516', '51519', '50971', '50983', '51006', '51221', '51222', '51248', '51249', '51250', '51265', '51277', '51279', '51301', '50868', '50882', '50893', '50902', '50912', '50931', '50960', '50970', '50800', '50817', '50868', '50882', '50893', '50902', '50912', '50931', '50960', '50970', '50971', '50983', '51006', '51137', '51143', '51144', '51146', '51200', '51221', '51222', '51233', '51237', '51244', '51246', '51248', '51249', '51250', '51251', '51252', '51254', '51255', '51256', '51260', '51265', '51266', '51267', '51268', '51274', '51275', '51277', '51279', '51301', '51076', '51078', '51082', '51087', '51093', '51097', '51100', '51104', '51464', '51466', '51478', '51484', '51486', '51487', '51491', '51492', '51498', '51506', '51508', '51514', '51009', '50868', '50882', '50893', '50902', '50912', '50925', '50931', '50960', '50970', '50971', '50983', '51006', '51009', '51010', '51221', '51222', '51248', '51249', '51250', '51265', '51277', '51279', '51301', '50800', '50808', '50820']\n",
            "\t1-th visit id: 161640\n",
            "\t1-th visit diagnosis labels: ['41071', '3970', '42731', '20410', '2848', '41401', '7455', '4019', '2720']\n",
            "\t1-th visit procedures: ['3514', '3723', '3612', '3961', '3615', '3571', '8872', '3761', '8856', '8853', '9904']\n",
            "\t1-th visit prescriptions: ['63653117103', '17714001110', '51079004120', '00378001801', '00677178110', '00074380511', '00071015540', '00008084199', '51079001920', '0', '63653117103', '00310013039', '00074779362', '0', '63653117103', '00186108805', '17714001110', '51079004120', '63653117103', '00074779362', '0', '00074491023', '00456066270', '00182125989', '00054465025', '64253033335', '00378001801', '00071015723', '58177000111', '0', '00074180001', '00074610204', '00074724101', '00074144304', '00781188313', '00173038354', '51079033530', '00517460525', '62174057751', '00054354563', '10019002802', '00088171249', '51079000522', '0', '0', '0', '00338001702', '0', '00338001702', '00338001702', '00310030011', '00074148402', '00074148402', '00074302401', '00024120301', '00002735501', '0', '00074125901', '0', '10019016312', '00338070341', '00002821501', '00338004938', '00338001702', '51079001920', '0', '17714001110', '00713016512', '00677178110', '00054465025', '00517391025', '00517260225', '00024120301', '00024120301', '0', '0', '00074610204', '00045025501', '00024120301', '0', '00008084199', '00074610204', '60977045101', '00056017075', '00056016975', '00074380511', '00071015623', '00054829725', '58177000111', '00378001801', '00054465025', '00056016975', '00008084199', '60977045101', '00378001801', '00121043130', '0', '00074380611', '00054829725', '51079001920', '00071015623', '17714001110', '00677178110', '00056017675', '00056016975', '00045051372', '00056017075']\n",
            "\t1-th visit labs: ['51237', '51275', '50868', '50882', '50893', '50902', '50912', '50931', '50960', '50970', '50971', '50983', '51006', '51221', '51222', '51237', '51248', '51249', '51250', '51265', '51274', '51275', '51277', '51279', '51301', '50861', '50862', '50863', '50867', '50868', '50878', '50882', '50883', '50893', '50902', '50907', '50912', '50931', '50971', '50983', '51006', '51137', '51143', '51144', '51145', '51146', '51200', '51221', '51222', '51233', '51237', '51244', '51246', '51248', '51249', '51250', '51251', '51252', '51254', '51255', '51256', '51260', '51265', '51266', '51267', '51268', '51274', '51277', '51279', '51287', '51296', '51301', '51464', '51466', '51478', '51484', '51486', '51487', '51491', '51492', '51498', '51506', '51508', '51514', '50861', '50862', '50863', '50878', '50885', '50949', '50950', '50951', '50960', '50971', '50979', '51221', '51222', '51237', '51265', '51274', '51275', '50800', '50817', '51248', '51249', '51250', '51265', '51274', '51275', '51277', '51279', '51301', '50868', '50882', '50893', '50902', '50912', '50931', '50960', '50970', '50971', '50983', '51006', '51221', '51222', '51237', '50800', '50817', '51221', '51265', '50800', '50802', '50804', '50808', '50809', '50810', '50811', '50812', '50818', '50820', '50821', '50822', '50824', '50828', '50800', '50802', '50804', '50809', '50818', '50820', '50821', '50822', '50800', '50802', '50804', '50809', '50818', '50820', '50821', '50822', '51265', '50800', '50802', '50804', '50808', '50809', '50810', '50811', '50812', '50818', '50820', '50821', '50822', '50824', '50828', '51214', '51237', '51265', '51274', '51275', '50800', '50802', '50804', '50808', '50809', '50810', '50811', '50812', '50818', '50820', '50821', '50822', '50824', '50828', '50882', '50902', '50912', '51006', '51221', '51237', '51265', '51274', '51275', '50800', '50800', '50802', '50804', '50808', '50809', '50817', '50818', '50820', '50821', '50822', '50824', '50800', '50802', '50804', '50809', '50817', '50818', '50820', '50821', '50800', '50802', '50804', '50808', '50809', '50818', '50820', '50821', '50822', '50960', '51221', '51265', '50800', '50802', '50804', '50808', '50809', '50817', '50818', '50820', '50821', '50822', '51301', '50868', '50882', '50902', '50912', '50931', '50960', '50971', '50983', '51006', '51221', '51222', '51237', '51248', '51249', '51250', '51265', '51274', '51275', '51277', '51279', '50800', '50802', '50804', '50808', '50809', '50817', '50818', '50820', '50821', '50822', '50809', '50817', '50912', '50960', '51221', '51237', '51265', '51274', '51275', '50800', '50802', '50804', '50808', '50817', '50818', '50820', '50821', '50822', '51221', '51265', '51266', '50800', '50808', '50809', '50820', '50822', '50882', '50902', '50912', '50931', '50960', '50983', '51006', '51221', '51222', '51237', '51248', '51249', '51250', '51265', '51274', '51275', '51277', '51279', '51301', '50800', '50808', '50817', '50820', '50822', '50960', '51221', '51265', '50800', '50802', '50804', '50808', '50809', '50817', '50818', '50820', '50821', '50822', '50960', '51221', '51265', '50800', '50802', '50804', '50808', '50809', '50817', '50818', '50820', '50821', '50822', '50868', '50882', '50902', '50912', '50931', '50971', '50983', '51006', '51221', '51222', '51237', '51248', '51249', '51250', '51265', '51274', '51277', '51279', '51301', '50960', '51221', '51265', '50800', '50802', '50804', '50808', '50817', '50818', '50820', '50821', '50822', '50902', '50912', '50931', '50960', '50971', '50983', '51006', '51221', '51222', '51237', '51248', '51249', '51250', '51265', '51274', '51275', '51277', '51279', '51301', '50868', '50882', '50868', '50882', '50902', '50912', '50931', '50971', '50983', '51006', '51221', '51222', '51237', '51248', '51249', '51250', '51265', '51274', '51277', '51279', '51301', '50912', '50971', '51006', '51221', '51222', '51237', '51248', '51249', '51250', '51265', '51274', '51277', '51279', '51301']\n"
          ]
        }
      ]
    },
    {
      "cell_type": "code",
      "source": [
        "print(\"Number of patients with sepsis:\", sum(sepsis))\n",
        "print(\"Ratio of patients with sepsis: %.2f\" % (sum(sepsis) / len(sepsis)))"
      ],
      "metadata": {
        "colab": {
          "base_uri": "https://localhost:8080/"
        },
        "id": "3hW5a9WgJaXo",
        "outputId": "99fce751-d781-4e0f-c024-bf9dab745961"
      },
      "execution_count": 42,
      "outputs": [
        {
          "output_type": "stream",
          "name": "stdout",
          "text": [
            "Number of patients with sepsis: 4689\n",
            "Ratio of patients with sepsis: 0.25\n"
          ]
        }
      ]
    },
    {
      "cell_type": "markdown",
      "source": [
        "## Data statistics"
      ],
      "metadata": {
        "id": "cv7tFi1xcOq0"
      }
    },
    {
      "cell_type": "code",
      "source": [
        "def calculate_stats(pids, vids, sepsis, seqs, procedures, prescriptions, labs):\n",
        "    # Print basic information\n",
        "    print(f\"Total patients: {len(pids)}\")\n",
        "    print(f\"Total sepsis cases: {sum(sepsis)}\")\n",
        "    print(f\"Percentage of sepsis cases: {sum(sepsis) / len(sepsis) * 100:.2f}%\")\n",
        "\n",
        "    # Calculate visits statistics\n",
        "    visits_counts = [len(v) for v in vids]\n",
        "    print(f\"Average number of visits per patient: {np.mean(visits_counts):.2f}\")\n",
        "    print(f\"Maximum number of visits by a single patient: {np.max(visits_counts)}\")\n",
        "    print(f\"Minimum number of visits by a single patient: {np.min(visits_counts)}\")\n",
        "\n",
        "    # Flatten diagnosis codes to calculate frequencies\n",
        "    all_diagnoses = [code for patient in seqs for visit in patient for code in visit]\n",
        "    unique_diagnoses, counts = np.unique(all_diagnoses, return_counts=True)\n",
        "    print(f\"Total unique diagnosis codes: {len(unique_diagnoses)}\")\n",
        "    print(f\"Most common diagnosis code: {unique_diagnoses[np.argmax(counts)]} with {np.max(counts)} occurrences\")\n",
        "\n",
        "    # Statistics for procedures\n",
        "    all_procedures = [code for patient in procedures for visit in patient for code in visit]\n",
        "    unique_procedures, procedure_counts = np.unique(all_procedures, return_counts=True)\n",
        "    print(f\"Total unique procedure codes: {len(unique_procedures)}\")\n",
        "    print(f\"Most common procedure code: {unique_procedures[np.argmax(procedure_counts)]} with {np.max(procedure_counts)} occurrences\")\n",
        "\n",
        "    # Statistics for prescriptions\n",
        "    all_prescriptions = [code for patient in prescriptions for visit in patient for code in visit]\n",
        "    unique_prescriptions, prescription_counts = np.unique(all_prescriptions, return_counts=True)\n",
        "    print(f\"Total unique prescription codes: {len(unique_prescriptions)}\")\n",
        "    print(f\"Most common prescription code: {unique_prescriptions[np.argmax(prescription_counts)]} with {np.max(prescription_counts)} occurrences\")\n",
        "\n",
        "    # Statistics for lab tests\n",
        "    all_labs = [code for patient in labs for visit in patient for code in visit]\n",
        "    unique_labs, lab_counts = np.unique(all_labs, return_counts=True)\n",
        "    print(f\"Total unique lab test codes: {len(unique_labs)}\")\n",
        "    print(f\"Most common lab test code: {unique_labs[np.argmax(lab_counts)]} with {np.max(lab_counts)} occurrences\")\n",
        "\n",
        "    # Handling missing data in sequences\n",
        "    empty_visits = sum(1 for patient in seqs for visit in patient if not visit)\n",
        "    print(f\"Number of empty visits across all patients: {empty_visits}\")\n",
        "\n",
        "    stats = {\n",
        "        'total_patients': len(pids),\n",
        "        'total_sepsis_cases': sum(sepsis),\n",
        "        'sepsis_percentage': sum(sepsis) / len(sepsis) * 100,\n",
        "        'visits_counts': visits_counts,\n",
        "        'max_visits': np.max(visits_counts),\n",
        "        'min_visits': np.min(visits_counts),\n",
        "        'unique_diagnoses': unique_diagnoses,\n",
        "        'diagnosis_counts': counts,\n",
        "        'unique_procedures': unique_procedures,\n",
        "        'procedure_counts': procedure_counts,\n",
        "        'unique_prescriptions': unique_prescriptions,\n",
        "        'prescription_counts': prescription_counts,\n",
        "        'unique_labs': unique_labs,\n",
        "        'lab_counts': lab_counts,\n",
        "        'empty_visits': empty_visits\n",
        "    }\n",
        "\n",
        "    return stats\n",
        "\n",
        "\n",
        "stats = calculate_stats(pids, vids, sepsis, seqs, procedures, prescriptions, labs)"
      ],
      "metadata": {
        "colab": {
          "base_uri": "https://localhost:8080/"
        },
        "id": "juVZ9V-ZJei-",
        "outputId": "c72db619-034d-4c17-e473-cd03719bd67a"
      },
      "execution_count": 135,
      "outputs": [
        {
          "output_type": "stream",
          "name": "stdout",
          "text": [
            "Total patients: 18756\n",
            "Total sepsis cases: 4689\n",
            "Percentage of sepsis cases: 25.00%\n",
            "Average number of visits per patient: 1.36\n",
            "Maximum number of visits by a single patient: 42\n",
            "Minimum number of visits by a single patient: 1\n",
            "Total unique diagnosis codes: 5705\n",
            "Most common diagnosis code: 4019 with 8744 occurrences\n",
            "Total unique procedure codes: 1662\n",
            "Most common procedure code: 3893 with 8261 occurrences\n",
            "Total unique prescription codes: 3888\n",
            "Most common prescription code: 0 with 298044 occurrences\n",
            "Total unique lab test codes: 698\n",
            "Most common lab test code: 51221 with 344723 occurrences\n",
            "Number of empty visits across all patients: 17\n"
          ]
        }
      ]
    },
    {
      "cell_type": "markdown",
      "source": [
        "## Data descriptions with helpful charts and visualizations\n",
        "\n",
        "Descriptions and visualizations are provided in the following code snippets after reading the input file."
      ],
      "metadata": {
        "id": "pvAi2kXewXtz"
      }
    },
    {
      "cell_type": "markdown",
      "source": [
        "### Patient Sepsis Incidence\n",
        "  \n",
        "A simple pie chart to show the proportion of sepsis cases among the patients."
      ],
      "metadata": {
        "id": "jZtOh549wx0y"
      }
    },
    {
      "cell_type": "code",
      "source": [
        "# Data preparation\n",
        "labels = 'Sepsis Cases', 'Non-Sepsis Cases'\n",
        "sizes = [4689, 18756 - 4689]\n",
        "\n",
        "# Plotting\n",
        "fig1, ax1 = plt.subplots()\n",
        "ax1.pie(sizes, labels=labels, autopct='%1.1f%%', startangle=90)\n",
        "ax1.axis('equal')\n",
        "plt.title('Proportion of Sepsis Cases')\n",
        "plt.show()"
      ],
      "metadata": {
        "colab": {
          "base_uri": "https://localhost:8080/",
          "height": 428
        },
        "id": "Q8EybDZAw8ki",
        "outputId": "09922f95-cc18-46bc-f7b5-76e54eab907c"
      },
      "execution_count": 131,
      "outputs": [
        {
          "output_type": "display_data",
          "data": {
            "text/plain": [
              "<Figure size 640x480 with 1 Axes>"
            ],
            "image/png": "[encoded data removed]"
          },
          "metadata": {}
        }
      ]
    },
    {
      "cell_type": "markdown",
      "source": [
        "### Visit Statistics\n",
        "A histogram to visualize the distribution of the number of visits per patient."
      ],
      "metadata": {
        "id": "qI-lOuzoxBI7"
      }
    },
    {
      "cell_type": "code",
      "source": [
        "sns.histplot(stats['visits_counts'], kde=False, bins=30)\n",
        "plt.title('Distribution of Visits per Patient')\n",
        "plt.xlabel('Number of Visits')\n",
        "plt.ylabel('Frequency')\n",
        "plt.show()"
      ],
      "metadata": {
        "colab": {
          "base_uri": "https://localhost:8080/",
          "height": 472
        },
        "id": "GWI3kD8QxQW-",
        "outputId": "c91dd231-403c-4ab2-c7d3-ff691ccb7a8a"
      },
      "execution_count": 136,
      "outputs": [
        {
          "output_type": "display_data",
          "data": {
            "text/plain": [
              "<Figure size 640x480 with 1 Axes>"
            ],
            "image/png": "[encoded data removed]"
          },
          "metadata": {}
        }
      ]
    },
    {
      "cell_type": "markdown",
      "source": [
        "## Common Codes Frequency\n",
        "Bar charts for the most common diagnosis, procedure, prescription, and lab codes. It’s helpful to visualize the top N codes to see the distribution and frequency of the most common entries."
      ],
      "metadata": {
        "id": "b7HGvuUVykiH"
      }
    },
    {
      "cell_type": "code",
      "source": [
        "def plot_top_codes(codes, counts, title, top_n=10):\n",
        "    # Sort codes by counts\n",
        "    sorted_indices = np.argsort(-counts)\n",
        "    top_codes = codes[sorted_indices][:top_n]\n",
        "    top_counts = counts[sorted_indices][:top_n]\n",
        "\n",
        "    # plt.figure(figsize=(10, 6))\n",
        "    plt.figure(figsize=(8, 4))\n",
        "    sns.barplot(x=top_codes, y=top_counts, palette='viridis')\n",
        "    plt.title(title)\n",
        "    plt.ylabel('Frequency')\n",
        "    plt.xticks(rotation=45)\n",
        "    plt.show()\n",
        "\n",
        "# Now using the dictionary keys to access the data\n",
        "plot_top_codes(stats['unique_diagnoses'], stats['diagnosis_counts'], 'Top 10 Diagnosis Codes')\n",
        "plot_top_codes(stats['unique_procedures'], stats['procedure_counts'], 'Top 10 Procedure Codes')\n",
        "plot_top_codes(stats['unique_prescriptions'], stats['prescription_counts'], 'Top 10 Prescription Codes')\n",
        "plot_top_codes(stats['unique_labs'], stats['lab_counts'], 'Top 10 Lab Test Codes')"
      ],
      "metadata": {
        "colab": {
          "base_uri": "https://localhost:8080/",
          "height": 1000
        },
        "id": "megyM0kdymz5",
        "outputId": "d23eca13-16ff-425d-d1bf-81ce1cd05da3"
      },
      "execution_count": 143,
      "outputs": [
        {
          "output_type": "stream",
          "name": "stderr",
          "text": [
            "<ipython-input-143-db2cde8ddbd4>:9: FutureWarning: \n",
            "\n",
            "Passing `palette` without assigning `hue` is deprecated and will be removed in v0.14.0. Assign the `x` variable to `hue` and set `legend=False` for the same effect.\n",
            "\n",
            "  sns.barplot(x=top_codes, y=top_counts, palette='viridis')\n"
          ]
        },
        {
          "output_type": "display_data",
          "data": {
            "text/plain": [
              "<Figure size 800x400 with 1 Axes>"
            ],
            "image/png": "[encoded data removed]"
          },
          "metadata": {}
        },
        {
          "output_type": "stream",
          "name": "stderr",
          "text": [
            "<ipython-input-143-db2cde8ddbd4>:9: FutureWarning: \n",
            "\n",
            "Passing `palette` without assigning `hue` is deprecated and will be removed in v0.14.0. Assign the `x` variable to `hue` and set `legend=False` for the same effect.\n",
            "\n",
            "  sns.barplot(x=top_codes, y=top_counts, palette='viridis')\n"
          ]
        },
        {
          "output_type": "display_data",
          "data": {
            "text/plain": [
              "<Figure size 800x400 with 1 Axes>"
            ],
            "image/png": "[encoded data removed]"
          },
          "metadata": {}
        },
        {
          "output_type": "stream",
          "name": "stderr",
          "text": [
            "<ipython-input-143-db2cde8ddbd4>:9: FutureWarning: \n",
            "\n",
            "Passing `palette` without assigning `hue` is deprecated and will be removed in v0.14.0. Assign the `x` variable to `hue` and set `legend=False` for the same effect.\n",
            "\n",
            "  sns.barplot(x=top_codes, y=top_counts, palette='viridis')\n"
          ]
        },
        {
          "output_type": "display_data",
          "data": {
            "text/plain": [
              "<Figure size 800x400 with 1 Axes>"
            ],
            "image/png": "[encoded data removed]"
          },
          "metadata": {}
        },
        {
          "output_type": "stream",
          "name": "stderr",
          "text": [
            "<ipython-input-143-db2cde8ddbd4>:9: FutureWarning: \n",
            "\n",
            "Passing `palette` without assigning `hue` is deprecated and will be removed in v0.14.0. Assign the `x` variable to `hue` and set `legend=False` for the same effect.\n",
            "\n",
            "  sns.barplot(x=top_codes, y=top_counts, palette='viridis')\n"
          ]
        },
        {
          "output_type": "display_data",
          "data": {
            "text/plain": [
              "<Figure size 800x400 with 1 Axes>"
            ],
            "image/png": "[encoded data removed]"
          },
          "metadata": {}
        }
      ]
    },
    {
      "cell_type": "markdown",
      "source": [
        "## Empty Visits Visualization\n",
        "A pie chart to show the proportion of empty visits.\n",
        "\n"
      ],
      "metadata": {
        "id": "q6_9tJlwzI-H"
      }
    },
    {
      "cell_type": "code",
      "source": [
        "total_visits = sum(stats['visits_counts'])\n",
        "non_empty_visits = total_visits - stats['empty_visits']\n",
        "\n",
        "# Prepare data for the pie chart\n",
        "labels = 'Empty Visits', 'Non-Empty Visits'\n",
        "sizes = [stats['empty_visits'], non_empty_visits]\n",
        "\n",
        "# Create pie chart\n",
        "fig1, ax1 = plt.subplots()\n",
        "ax1.pie(sizes, labels=labels, autopct='%1.1f%%', startangle=90)\n",
        "ax1.axis('equal')\n",
        "plt.title('Proportion of Empty Visits')\n",
        "plt.show()"
      ],
      "metadata": {
        "colab": {
          "base_uri": "https://localhost:8080/",
          "height": 435
        },
        "id": "SuxpmxfpzNer",
        "outputId": "8821fb8a-a137-46de-8887-be20a0f651a4"
      },
      "execution_count": 140,
      "outputs": [
        {
          "output_type": "display_data",
          "data": {
            "text/plain": [
              "<Figure size 640x480 with 1 Axes>"
            ],
            "image/png": "[encoded data removed]"
          },
          "metadata": {}
        }
      ]
    },
    {
      "cell_type": "markdown",
      "source": [
        "### Convert Diagnosis Codes to Numeric IDs\n",
        "\n",
        "To maintain a comprehensive mapping of all codes across different types of medical data (diagnoses, procedures, prescriptions, and labs), we would need to include these tables. Each of these tables can have unique codes that also need to be mapped to numeric IDs for consistent handling in data processing or modeling.\n",
        "\n",
        "Here's how we can create a unified code_to_id dictionary that includes diagnosis codes, procedure codes, prescription identifiers, and lab test codes:"
      ],
      "metadata": {
        "id": "vIInFwFE-PX1"
      }
    },
    {
      "cell_type": "code",
      "source": [
        "code_to_id = {}\n",
        "current_id = 0\n",
        "\n",
        "# Function to add codes to the dictionary\n",
        "def add_codes_to_dict(codes):\n",
        "    global current_id\n",
        "    for code in codes:\n",
        "        if code not in code_to_id:\n",
        "            code_to_id[code] = current_id\n",
        "            current_id += 1\n",
        "\n",
        "# Process diagnosis codes\n",
        "for patient_visits in seqs:\n",
        "    for visit in patient_visits:\n",
        "        add_codes_to_dict(visit)\n",
        "\n",
        "# Process procedure codes\n",
        "for patient_visits in procedures:\n",
        "    for visit in patient_visits:\n",
        "        add_codes_to_dict(visit)\n",
        "\n",
        "# Process prescription codes\n",
        "for patient_visits in prescriptions:\n",
        "    for visit in patient_visits:\n",
        "        add_codes_to_dict(visit)\n",
        "\n",
        "# Process lab test codes\n",
        "for patient_visits in labs:\n",
        "    for visit in patient_visits:\n",
        "        add_codes_to_dict(visit)\n",
        "\n",
        "print(f\"Total unique codes across all tables: {len(code_to_id)}\")"
      ],
      "metadata": {
        "colab": {
          "base_uri": "https://localhost:8080/"
        },
        "id": "h3jT6bI--P3E",
        "outputId": "ec6ed571-d501-4cab-8ae5-37c6a2ba0c2b"
      },
      "execution_count": null,
      "outputs": [
        {
          "output_type": "stream",
          "name": "stdout",
          "text": [
            "Total unique codes across all tables: 11576\n"
          ]
        }
      ]
    },
    {
      "cell_type": "code",
      "source": [
        "max_index = max(code_to_id.values())\n",
        "print(\"Maximum index in code_to_id:\", max_index)"
      ],
      "metadata": {
        "colab": {
          "base_uri": "https://localhost:8080/"
        },
        "id": "m7j_lP-xTOLn",
        "outputId": "a9d500d5-e95e-4edf-9dc6-b473f0a78b13"
      },
      "execution_count": null,
      "outputs": [
        {
          "output_type": "stream",
          "name": "stdout",
          "text": [
            "Maximum index in code_to_id: 11575\n"
          ]
        }
      ]
    },
    {
      "cell_type": "markdown",
      "source": [
        "### Custom Dataset\n",
        "\n",
        "Here, I implement a custom dataset, which will mark the key features of the dataset. I will use the sequences of diagnosis codes seqs as input and sepsis as output."
      ],
      "metadata": {
        "id": "UxarL4BxA3SS"
      }
    },
    {
      "cell_type": "code",
      "source": [
        "class CustomDataset(Dataset):\n",
        "    def __init__(self, seqs, procedures, prescriptions, labs, sepsis):\n",
        "        # Store the raw code sequences\n",
        "        self.x_seqs = seqs\n",
        "        self.x_procs = procedures\n",
        "        self.x_pres = prescriptions\n",
        "        self.x_labs = labs\n",
        "        self.y = sepsis\n",
        "\n",
        "    def __len__(self):\n",
        "        return len(self.y)\n",
        "\n",
        "    def __getitem__(self, index):\n",
        "        # Each entry in the dataset is a tuple containing:\n",
        "        # Different types of medical data (sequences, procedures, prescriptions, labs) and the corresponding sepsis label\n",
        "        return (self.x_seqs[index], self.x_procs[index], self.x_pres[index], self.x_labs[index]), self.y[index]\n",
        "\n",
        "dataset = CustomDataset(seqs, procedures, prescriptions, labs, sepsis)"
      ],
      "metadata": {
        "id": "O1TxeBCKA33V"
      },
      "execution_count": null,
      "outputs": []
    },
    {
      "cell_type": "markdown",
      "source": [
        "Here, the collate function is called by DataLoader after fetching a list of samples using the indices from CustomDataset to collate the list of samples into batches."
      ],
      "metadata": {
        "id": "m7wzGi7CCqJ1"
      }
    },
    {
      "cell_type": "code",
      "source": [
        "def collate_fn(data):\n",
        "    # Unpack data; each element in data now includes multiple types of medical data\n",
        "    all_data, labels = zip(*data)\n",
        "    sequences, procedures, prescriptions, labs = zip(*all_data)\n",
        "\n",
        "    y = torch.tensor(labels, dtype=torch.float)\n",
        "\n",
        "    num_patients = len(sequences)\n",
        "    num_visits = [len(patient) for patient in sequences]  # Assumes visits count is the same across all data types\n",
        "\n",
        "    # Initialize tensors for forward and reverse data\n",
        "    max_num_visits = max(num_visits)\n",
        "    max_num_codes = {\n",
        "        'seq': max(len(visit) for patient in sequences for visit in patient),\n",
        "        'proc': max(len(visit) for patient in procedures for visit in patient),\n",
        "        'pres': max(len(visit) for patient in prescriptions for visit in patient),\n",
        "        'labs': max(len(visit) for patient in labs for visit in patient)\n",
        "    }\n",
        "\n",
        "    data_dict = {key: {'forward': torch.zeros((num_patients, max_num_visits, max_num_codes[key]), dtype=torch.long),\n",
        "                       'reverse': torch.zeros((num_patients, max_num_visits, max_num_codes[key]), dtype=torch.long),\n",
        "                       'mask_forward': torch.zeros((num_patients, max_num_visits, max_num_codes[key]), dtype=torch.bool),\n",
        "                       'mask_reverse': torch.zeros((num_patients, max_num_visits, max_num_codes[key]), dtype=torch.bool)}\n",
        "                 for key in ['seq', 'proc', 'pres', 'labs']}\n",
        "\n",
        "    # Populate tensors for each type of medical data\n",
        "    for i_patient, (patient_seq, patient_proc, patient_pres, patient_lab) in enumerate(zip(sequences, procedures, prescriptions, labs)):\n",
        "        for data_type, patient_data in zip(['seq', 'proc', 'pres', 'labs'], [patient_seq, patient_proc, patient_pres, patient_lab]):\n",
        "            rev_patient_data = patient_data[::-1]\n",
        "            for j_visit, (visit_data, rev_visit_data) in enumerate(zip(patient_data, rev_patient_data)):\n",
        "                numeric_codes = [code_to_id[code] for code in visit_data]\n",
        "                len_codes = len(numeric_codes)\n",
        "                data_dict[data_type]['forward'][i_patient, j_visit, :len_codes] = torch.tensor(numeric_codes, dtype=torch.long)\n",
        "                data_dict[data_type]['mask_forward'][i_patient, j_visit, :len_codes] = 1\n",
        "\n",
        "                rev_numeric_codes = [code_to_id[code] for code in rev_visit_data]\n",
        "                data_dict[data_type]['reverse'][i_patient, j_visit, :len(rev_numeric_codes)] = torch.tensor(rev_numeric_codes, dtype=torch.long)\n",
        "                data_dict[data_type]['mask_reverse'][i_patient, j_visit, :len(rev_numeric_codes)] = 1\n",
        "\n",
        "    return {\n",
        "        'seqs_forward': data_dict['seq']['forward'],\n",
        "        'seqs_reverse': data_dict['seq']['reverse'],\n",
        "        'seqs_mask_forward': data_dict['seq']['mask_forward'],\n",
        "        'seqs_mask_reverse': data_dict['seq']['mask_reverse'],\n",
        "        'procs_forward': data_dict['proc']['forward'],\n",
        "        'procs_reverse': data_dict['proc']['reverse'],\n",
        "        'procs_mask_forward': data_dict['proc']['mask_forward'],\n",
        "        'procs_mask_reverse': data_dict['proc']['mask_reverse'],\n",
        "        'pres_forward': data_dict['pres']['forward'],\n",
        "        'pres_reverse': data_dict['pres']['reverse'],\n",
        "        'pres_mask_forward': data_dict['pres']['mask_forward'],\n",
        "        'pres_mask_reverse': data_dict['pres']['mask_reverse'],\n",
        "        'labs_forward': data_dict['labs']['forward'],\n",
        "        'labs_reverse': data_dict['labs']['reverse'],\n",
        "        'labs_mask_forward': data_dict['labs']['mask_forward'],\n",
        "        'labs_mask_reverse': data_dict['labs']['mask_reverse'],\n",
        "        'labels': y\n",
        "    }"
      ],
      "metadata": {
        "id": "VPoC4iS5CquT"
      },
      "execution_count": null,
      "outputs": []
    },
    {
      "cell_type": "markdown",
      "source": [
        "Splitting the dataset into training and validation sets."
      ],
      "metadata": {
        "id": "WEfKaBwhMEgO"
      }
    },
    {
      "cell_type": "code",
      "source": [
        "split = int(len(dataset)*0.8)\n",
        "\n",
        "lengths = [split, len(dataset) - split]\n",
        "train_dataset, val_dataset = random_split(dataset, lengths)\n",
        "\n",
        "print(\"Length of train dataset:\", len(train_dataset))\n",
        "print(\"Length of val dataset:\", len(val_dataset))"
      ],
      "metadata": {
        "colab": {
          "base_uri": "https://localhost:8080/"
        },
        "id": "qg9lL14rME2X",
        "outputId": "29257a8d-e6ae-4188-8369-820991ab999f"
      },
      "execution_count": null,
      "outputs": [
        {
          "output_type": "stream",
          "name": "stdout",
          "text": [
            "Length of train dataset: 15004\n",
            "Length of val dataset: 3752\n"
          ]
        }
      ]
    },
    {
      "cell_type": "markdown",
      "source": [
        "Loading the dataset into the data loader."
      ],
      "metadata": {
        "id": "YDWPHVWEMRfv"
      }
    },
    {
      "cell_type": "code",
      "source": [
        "def load_data(train_dataset, val_dataset, collate_fn):\n",
        "    batch_size = 32\n",
        "\n",
        "    train_loader = DataLoader(train_dataset, batch_size=batch_size, shuffle=True, collate_fn=collate_fn)\n",
        "    val_loader = DataLoader(val_dataset, batch_size=batch_size, shuffle=False, collate_fn=collate_fn)\n",
        "\n",
        "    return train_loader, val_loader\n",
        "\n",
        "\n",
        "train_loader, val_loader = load_data(train_dataset, val_dataset, collate_fn)"
      ],
      "metadata": {
        "id": "3D8kEtFvMRtV"
      },
      "execution_count": null,
      "outputs": []
    },
    {
      "cell_type": "markdown",
      "source": [
        "##   Model\n",
        "\n",
        "As mentioned earlier, the study [1] suggests training a recurrent neural network (RNN) in the form of LSTM with the inclusion of a variable-level attention mechanism. However, as a starting point, I implemented two ML models: a naive RNN using GRUs and RETAIN which is a RNN model with attention mechanism [6]. For these implementations, I borrowed some of my as well as provided coding from the Homeworks.\n",
        "\n",
        "The original paper’s repo is at: https://github.com/deepak-kaji/mimic-lstm."
      ],
      "metadata": {
        "id": "UFrQJUTzNSRS"
      }
    },
    {
      "cell_type": "markdown",
      "source": [
        "### Naive RNN\n",
        "\n",
        "The architecture of the model is a bidirectional Recurrent Neural Network (RNN) using Gated Recurrent Units (GRUs) for processing sequences, specifically designed for sequence classification tasks. Here’s a breakdown of each component and its role within the architecture:\n",
        "\n",
        "* Embedding Layer: Converts each integer-encoded diagnosis code into a dense vector representation. The Embedding layer has num_embeddings which equals the total number of unique diagnosis codes (num_codes), and each embedding has a dimension of embDimSize (128 in this case).\n",
        "\n",
        "* Bidirectional GRU Layers: A type of RNN that is effective in capturing dependencies in time-series data or sequences. It has gating mechanisms (update and reset gates) that regulate the flow of information and help in learning long-range dependencies in data. Both GRU layers have an input_size set to embDimSize (128) times the number of input data types (4), and hidden_size of embDimSize (128).\n",
        "\n",
        "* Linear and Sigmoid Output Layers.\n",
        "\n",
        "We initially need to transform the codes for each data type for any given visit to an embedding."
      ],
      "metadata": {
        "id": "XGnw9EtQNVW3"
      }
    },
    {
      "cell_type": "code",
      "source": [
        "# Not used!\n",
        "def sum_embeddings_with_mask_forward(data_dict):\n",
        "    \"\"\"\n",
        "    Sum embeddings for each type of medical data using masks.\n",
        "\n",
        "    Args:\n",
        "    - data_dict: Dictionary containing tensors for sequences, procedures, prescriptions, labs, and their respective masks.\n",
        "\n",
        "    Returns:\n",
        "    - summed_embeddings: Dictionary of summed embeddings for each data type.\n",
        "    \"\"\"\n",
        "    summed_embeddings = {}\n",
        "    for data_type in ['seqs', 'procs', 'pres', 'labs']:\n",
        "        x = data_dict[f'{data_type}_forward']\n",
        "        masks = data_dict[f'{data_type}_mask_forward']\n",
        "\n",
        "        masks_expanded = masks.unsqueeze(-1).type_as(x)\n",
        "        masked_embeddings = x * masks_expanded\n",
        "        sum_embeddings = masked_embeddings.sum(dim=2)\n",
        "\n",
        "        summed_embeddings[data_type] = sum_embeddings\n",
        "\n",
        "    return summed_embeddings"
      ],
      "metadata": {
        "id": "45cXuPE2NR29"
      },
      "execution_count": null,
      "outputs": []
    },
    {
      "cell_type": "code",
      "source": [
        "# Not used!\n",
        "def sum_embeddings_with_mask_reverse(data_dict):\n",
        "    \"\"\"\n",
        "    Sum embeddings for each type of medical data using masks.\n",
        "\n",
        "    Args:\n",
        "    - data_dict: Dictionary containing tensors for sequences, procedures, prescriptions, labs, and their respective masks.\n",
        "\n",
        "    Returns:\n",
        "    - summed_embeddings: Dictionary of summed embeddings for each data type.\n",
        "    \"\"\"\n",
        "    summed_embeddings = {}\n",
        "    for data_type in ['seqs', 'procs', 'pres', 'labs']:\n",
        "        x = data_dict[f'{data_type}_reverse']\n",
        "        masks = data_dict[f'{data_type}_mask_reverse']\n",
        "\n",
        "        masks_expanded = masks.unsqueeze(-1).type_as(x)\n",
        "        masked_embeddings = x * masks_expanded\n",
        "        sum_embeddings = masked_embeddings.sum(dim=2)\n",
        "\n",
        "        summed_embeddings[data_type] = sum_embeddings\n",
        "\n",
        "    return summed_embeddings"
      ],
      "metadata": {
        "id": "9Dix-UGxPqVb"
      },
      "execution_count": null,
      "outputs": []
    },
    {
      "cell_type": "code",
      "source": [
        "def sum_embeddings_with_mask(x, masks):\n",
        "    \"\"\"\n",
        "    Sum embeddings for a type of medical data using masks.\n",
        "\n",
        "    Args:\n",
        "    - x: Tensor containing the embeddings for sequences, procedures, prescriptions, or labs.\n",
        "    - masks: Corresponding masks for the embeddings.\n",
        "\n",
        "    Returns:\n",
        "    - sum_embeddings: Tensor of summed embeddings.\n",
        "    \"\"\"\n",
        "    masks_expanded = masks.unsqueeze(-1).type_as(x)\n",
        "    masked_embeddings = x * masks_expanded\n",
        "    sum_embeddings = masked_embeddings.sum(dim=2)\n",
        "    return sum_embeddings"
      ],
      "metadata": {
        "id": "4Iun15G4f5LM"
      },
      "execution_count": null,
      "outputs": []
    },
    {
      "cell_type": "code",
      "source": [
        "def get_last_visit(hidden_states, masks):\n",
        "    # Determine the last visit index for each patient\n",
        "    # Any visit with at least one non-zero entry in its mask is considered a valid visit\n",
        "    visit_presence = masks.any(dim=2)  # Find if there's any true value along dimension 2 (codes)\n",
        "\n",
        "    # Find the index of the last true (presence of visit) for each patient\n",
        "    last_visit_indices = torch.arange(visit_presence.size(1), device=hidden_states.device).expand(visit_presence.size(0), -1)\n",
        "    last_visit_indices = (last_visit_indices * visit_presence).max(dim=1)[0]\n",
        "\n",
        "    # Gather the hidden states from the last visit\n",
        "    batch_indices = torch.arange(0, hidden_states.size(0), device=hidden_states.device)\n",
        "    last_hidden_state = hidden_states[batch_indices, last_visit_indices]\n",
        "\n",
        "    return last_hidden_state"
      ],
      "metadata": {
        "id": "lLdMNmHJPyrV"
      },
      "execution_count": null,
      "outputs": []
    },
    {
      "cell_type": "markdown",
      "source": [
        "My initial NaiveRNN class implementation for handling bidirectional GRU processing worked for the scenario where we had a single type of data (diagnosis sequences). However, based on new changes that introduces multiple types of medical data (sequences, procedures, prescriptions, labs), the model needs to either handle multiple data types separately or merge them intelligently before processing through the RNN layers. I decided to concatenate embeddings from all types after embedding but before the RNN."
      ],
      "metadata": {
        "id": "vOY_pV6oRz6C"
      }
    },
    {
      "cell_type": "code",
      "source": [
        "class NaiveRNN(nn.Module):\n",
        "    def __init__(self, num_codes):\n",
        "        super().__init__()\n",
        "\n",
        "        self.embedding = None\n",
        "        self.rnn = None\n",
        "        self.rev_rnn = None\n",
        "        self.fc = None\n",
        "        self.sigmoid = None\n",
        "\n",
        "        embDimSize = 128\n",
        "        emb_dim_size = 128\n",
        "        num_data_types=4\n",
        "\n",
        "        self.embedding = nn.Embedding(num_embeddings=num_codes, embedding_dim=embDimSize)\n",
        "\n",
        "        #self.rnn = nn.GRU(input_size=embDimSize, hidden_size=embDimSize, batch_first=True)\n",
        "        #self.rev_rnn = nn.GRU(input_size=embDimSize, hidden_size=embDimSize, batch_first=True)\n",
        "\n",
        "        self.rnn = nn.GRU(input_size=emb_dim_size * num_data_types, hidden_size=emb_dim_size, batch_first=True)\n",
        "        self.rev_rnn = nn.GRU(input_size=emb_dim_size * num_data_types, hidden_size=emb_dim_size, batch_first=True)\n",
        "\n",
        "        self.fc = nn.Linear(in_features=2*embDimSize, out_features=1)\n",
        "        self.sigmoid = nn.Sigmoid()\n",
        "\n",
        "    def forward(self,  **kwargs):\n",
        "        \"\"\"\n",
        "        Extend forward pass to handle dictionary of different medical data types.\n",
        "        \"\"\"\n",
        "        batch_size = kwargs['seqs_forward'].shape[0]\n",
        "\n",
        "        # Embed and sum each type of data\n",
        "        embeddings = []\n",
        "        reverse_embeddings = []\n",
        "\n",
        "        for data_type in ['seqs', 'procs', 'pres', 'labs']:\n",
        "            x = self.embedding(kwargs[f'{data_type}_forward'])\n",
        "            masks = kwargs[f'{data_type}_mask_forward']\n",
        "            # x = sum_embeddings_with_mask_forward(x, kwargs[f'{data_type}_mask_forward'])\n",
        "            x = sum_embeddings_with_mask(x, masks)\n",
        "            embeddings.append(x)\n",
        "\n",
        "            # Handle reverse data\n",
        "            rev_x = self.embedding(kwargs[f'{data_type}_reverse'])\n",
        "            rev_masks = kwargs[f'{data_type}_mask_reverse']\n",
        "            rev_x = sum_embeddings_with_mask(rev_x, rev_masks)\n",
        "            # rev_x = sum_embeddings_with_mask_reverse(rev_x, kwargs[f'{data_type}_mask_reverse'])\n",
        "            reverse_embeddings.append(rev_x)\n",
        "\n",
        "        # Concatenate forward and reverse embeddings separately\n",
        "        forward_embeddings = torch.cat(embeddings, dim=-1)\n",
        "        reverse_embeddings = torch.cat(reverse_embeddings, dim=-1)\n",
        "\n",
        "        # Pass embeddings through RNN layers\n",
        "        output, _ = self.rnn(forward_embeddings)\n",
        "        rev_output, _ = self.rev_rnn(reverse_embeddings)\n",
        "\n",
        "        # Obtain the hidden state at the last visit from both forward and reverse outputs\n",
        "        true_h_n = get_last_visit(output, kwargs['seqs_mask_forward'])\n",
        "        true_h_n_rev = get_last_visit(rev_output, kwargs['seqs_mask_reverse'])\n",
        "\n",
        "        # Combine the last hidden states and pass through the final layers\n",
        "        logits = self.fc(torch.cat([true_h_n, true_h_n_rev], dim=1))\n",
        "        probs = self.sigmoid(logits)\n",
        "        return probs.view(batch_size)\n",
        "\n",
        "\n",
        "# Loading the model\n",
        "naive_rnn = NaiveRNN(num_codes = max_index + 1)\n",
        "# naive_rnn.to('cuda' if torch.cuda.is_available() else 'cpu')  # Ensure model is moved to a device\n",
        "naive_rnn"
      ],
      "metadata": {
        "colab": {
          "base_uri": "https://localhost:8080/"
        },
        "id": "sYs_Jn74Q7-O",
        "outputId": "f9cd6cae-19e2-44e6-a940-c76c4761f365"
      },
      "execution_count": null,
      "outputs": [
        {
          "output_type": "execute_result",
          "data": {
            "text/plain": [
              "NaiveRNN(\n",
              "  (embedding): Embedding(11576, 128)\n",
              "  (rnn): GRU(512, 128, batch_first=True)\n",
              "  (rev_rnn): GRU(512, 128, batch_first=True)\n",
              "  (fc): Linear(in_features=256, out_features=1, bias=True)\n",
              "  (sigmoid): Sigmoid()\n",
              ")"
            ]
          },
          "metadata": {},
          "execution_count": 37
        }
      ]
    },
    {
      "cell_type": "markdown",
      "source": [
        "### Model Training and Evaluation\n",
        "\n",
        "* Hyperparams:\n",
        "\n",
        "  * **Learning rate**: I used a default learning rate of 1e-3 which seemed to work fine for all models.\n",
        "  * **Batch size**: I used a default batch size of 32 which seemed to work fine for all models.\n",
        "  * **Embedding dimension size**: I used a default embedding dimension size of 128 which seemed to work fine for all models.\n",
        "\n",
        "* Computational requirements:\n",
        "\n",
        "  * **Training epochs**: I used a default # of training epochs equal to 10 which seemed to work fine for all models. Some trainings seemed to need even less epocs.\n",
        "  * **Average runtime for each epoch**: For all model, the 10 epocs took roughly around 22 minutes though the naive RNN took less time. This led to an average runtime for each epoch to be roughly around 2 minutes on a Google Colab High-RAM instance.\n",
        "  * **Type of hardware**: I ran the notebook on Google Colab. It used a Python 3 Google Compute Engine backend with System RAM of 51.0 GB and Disk availability of 225.8 GB."
      ],
      "metadata": {
        "id": "A2qVZHGce9iF"
      }
    },
    {
      "cell_type": "code",
      "source": [
        "def eval_model(model, val_loader):\n",
        "    model.eval()  # Set the model to evaluation mode\n",
        "    y_pred = torch.LongTensor()\n",
        "    y_score = torch.Tensor()\n",
        "    y_true = torch.LongTensor()\n",
        "\n",
        "    for data in val_loader:\n",
        "        # Assuming 'data' is a dictionary that includes all required tensors\n",
        "        # inputs = {key: value.to(model.device) for key, value in data.items() if key != 'labels'}\n",
        "        # labels = data['labels'].to(model.device)\n",
        "\n",
        "        inputs = {key: value for key, value in data.items() if key != 'labels'}\n",
        "        labels = data['labels']\n",
        "\n",
        "        # Forward pass\n",
        "        y_hat = model(**inputs)  # Unpack dictionary directly into the model\n",
        "        y_score = torch.cat((y_score, y_hat.detach().cpu()), dim=0)\n",
        "        y_hat = (y_hat > 0.5).int()  # Apply threshold to convert probabilities to binary outputs\n",
        "        y_pred = torch.cat((y_pred, y_hat.cpu()), dim=0)\n",
        "        y_true = torch.cat((y_true, labels.cpu()), dim=0)\n",
        "\n",
        "    # Compute precision, recall, f-score, and ROC AUC\n",
        "    p, r, f, _ = precision_recall_fscore_support(y_true, y_pred, average='binary')\n",
        "    roc_auc = roc_auc_score(y_true, y_score.float())\n",
        "\n",
        "    return p, r, f, roc_auc"
      ],
      "metadata": {
        "id": "9EEyJUdAUMHs"
      },
      "execution_count": null,
      "outputs": []
    },
    {
      "cell_type": "code",
      "source": [
        "def train(model, train_loader, val_loader, n_epochs):\n",
        "    # device = torch.device(\"cuda\" if torch.cuda.is_available() else \"cpu\")\n",
        "    # model.to(device)  # Ensure the model is on the correct device\n",
        "    roc_aucs = []  # List to store roc_auc values\n",
        "\n",
        "    # model.to('cuda' if torch.cuda.is_available() else 'cpu')  # Move model to appropriate device once\n",
        "\n",
        "    for epoch in range(n_epochs):\n",
        "        model.train()  # Set model to training mode\n",
        "        train_loss = 0\n",
        "\n",
        "        for data in train_loader:\n",
        "            # inputs = {key: value.to(model.device) for key, value in data.items() if key != 'labels'}\n",
        "            # labels = data['labels'].to(model.device)\n",
        "\n",
        "            inputs = {key: value for key, value in data.items() if key != 'labels'}\n",
        "            labels = data['labels']\n",
        "\n",
        "            optimizer.zero_grad()\n",
        "\n",
        "            outputs = model(**inputs)  # Unpack the dictionary directly into the model\n",
        "\n",
        "            loss = criterion(outputs, labels.float())  # Ensure labels are float if needed\n",
        "\n",
        "            loss.backward()\n",
        "            optimizer.step()\n",
        "\n",
        "            train_loss += loss.item()\n",
        "\n",
        "        train_loss /= len(train_loader)\n",
        "        print(f'Epoch: {epoch+1} \\t Training Loss: {train_loss:.6f}')\n",
        "\n",
        "        # Evaluate the model\n",
        "        p, r, f, roc_auc = eval_model(model, val_loader)\n",
        "        print(f'Epoch: {epoch+1} \\t Validation p: {p:.2f}, r: {r:.2f}, f: {f:.2f}, roc_auc: {roc_auc:.2f}')\n",
        "\n",
        "        roc_aucs.append(roc_auc)  # Append the current epoch's roc_auc\n",
        "\n",
        "    return roc_aucs"
      ],
      "metadata": {
        "id": "ZvJiAFQiVJVf"
      },
      "execution_count": null,
      "outputs": []
    },
    {
      "cell_type": "markdown",
      "source": [
        "### Plotting function"
      ],
      "metadata": {
        "id": "dBOnHf1PVvrF"
      }
    },
    {
      "cell_type": "code",
      "source": [
        "def plot_roc_auc(roc_aucs):\n",
        "    epochs = range(1, len(roc_aucs) + 1)\n",
        "    plt.figure(figsize=(10, 5))\n",
        "    plt.plot(epochs, roc_aucs, label='ROC AUC')\n",
        "    plt.title('ROC AUC over Epochs')\n",
        "    plt.xlabel('Epochs')\n",
        "    plt.ylabel('ROC AUC')\n",
        "    plt.legend()\n",
        "    plt.grid(True)\n",
        "    plt.show()"
      ],
      "metadata": {
        "id": "SE7q0LIGVwgI"
      },
      "execution_count": null,
      "outputs": []
    },
    {
      "cell_type": "code",
      "source": [
        "criterion = nn.BCELoss()\n",
        "optimizer = torch.optim.Adam(naive_rnn.parameters(), lr=0.001)\n",
        "\n",
        "n_epochs = 10\n",
        "roc_aucs = train(naive_rnn, train_loader, val_loader, n_epochs)\n",
        "\n",
        "plot_roc_auc(roc_aucs)"
      ],
      "metadata": {
        "colab": {
          "base_uri": "https://localhost:8080/",
          "height": 834
        },
        "id": "feW9_CotV8UU",
        "outputId": "777250df-1d6f-46e0-dfb3-f34be43c40f2"
      },
      "execution_count": null,
      "outputs": [
        {
          "output_type": "stream",
          "name": "stdout",
          "text": [
            "Epoch: 1 \t Training Loss: 0.362263\n",
            "Epoch: 1 \t Validation p: 0.80, r: 0.65, f: 0.72, roc_auc: 0.94\n",
            "Epoch: 2 \t Training Loss: 0.256910\n",
            "Epoch: 2 \t Validation p: 0.81, r: 0.77, f: 0.79, roc_auc: 0.96\n",
            "Epoch: 3 \t Training Loss: 0.214161\n",
            "Epoch: 3 \t Validation p: 0.88, r: 0.71, f: 0.78, roc_auc: 0.97\n",
            "Epoch: 4 \t Training Loss: 0.179928\n",
            "Epoch: 4 \t Validation p: 0.81, r: 0.89, f: 0.85, roc_auc: 0.97\n",
            "Epoch: 5 \t Training Loss: 0.157787\n",
            "Epoch: 5 \t Validation p: 0.90, r: 0.77, f: 0.83, roc_auc: 0.98\n",
            "Epoch: 6 \t Training Loss: 0.143499\n",
            "Epoch: 6 \t Validation p: 0.88, r: 0.89, f: 0.88, roc_auc: 0.98\n",
            "Epoch: 7 \t Training Loss: 0.127566\n",
            "Epoch: 7 \t Validation p: 0.90, r: 0.85, f: 0.88, roc_auc: 0.98\n",
            "Epoch: 8 \t Training Loss: 0.115617\n",
            "Epoch: 8 \t Validation p: 0.85, r: 0.93, f: 0.89, roc_auc: 0.98\n",
            "Epoch: 9 \t Training Loss: 0.112890\n",
            "Epoch: 9 \t Validation p: 0.87, r: 0.90, f: 0.88, roc_auc: 0.98\n",
            "Epoch: 10 \t Training Loss: 0.100920\n",
            "Epoch: 10 \t Validation p: 0.84, r: 0.93, f: 0.88, roc_auc: 0.98\n"
          ]
        },
        {
          "output_type": "display_data",
          "data": {
            "text/plain": [
              "<Figure size 1000x500 with 1 Axes>"
            ],
            "image/png": "[encoded data removed]"
          },
          "metadata": {}
        }
      ]
    },
    {
      "cell_type": "markdown",
      "source": [
        "## Metrics descriptions"
      ],
      "metadata": {
        "id": "5SfpDDJGdwHf"
      }
    },
    {
      "cell_type": "markdown",
      "source": [
        "Looking at the results and the ROC AUC curve over epochs, it seems that the model is performing quite well and improving over the course of training:\n",
        "\n",
        "* Decrease in Training Loss: The training loss consistently decreases from 0.362 in the first epoch to 0.101 by the tenth epoch. This indicates that the model is learning from the training data, optimizing its weights to reduce prediction error progressively.\n",
        "\n",
        "* Precision increased from 0.80 to 0.84. Recall shows significant improvement from 0.65 to 0.93. F-Score also shows a steady increase, indicating that the balance between precision and recall is improving. This balance is crucial in many applications, especially medical ones where both the avoidance of false negatives and false positives are critical.\n",
        "\n",
        "* The ROC AUC values start at 0.94 and increase to 0.98, indicating good model performance. The ROC AUC curve shows a clear upward trend across epochs. This trend is generally smooth, suggesting stable learning without significant volatility in performance across different epochs. The performance seems to plateau slightly toward the end, which is common as models approach their potential limit given the current feature set and architecture."
      ],
      "metadata": {
        "id": "8TGcfYY0wbDK"
      }
    },
    {
      "cell_type": "markdown",
      "source": [
        "# RETAIN\n",
        "\n",
        "RETAIN [6] is a type of neural network designed for interpretability in healthcare applications, especially useful for electronic health records (EHR). RETAIN uses a combination of recurrent neural networks (RNNs) and attention mechanisms to provide interpretable predictions, where the model outputs not only a prediction but also explanations for that prediction in terms of input influence.\n",
        "\n",
        "Here’s a breakdown of each component and its role within the architecture:\n",
        "\n",
        "  * Embedding Layer: Converts sparse, categorical input data (like medical codes) into dense vector representations. This transformation helps in capturing and learning the relationships between different codes.\n",
        "\n",
        "  * Recurrent Neural Networks (RNNs): The architecture uses two GRU (Gated Recurrent Unit) layers, rnn_a and rnn_b. rnn_a layer is used to model the attention weights (alpha) that determine the importance of each visit in a patient's EHR. rnn_b layer models the contributions of different features within each visit (beta), essentially weighting how much each feature within a visit should contribute to the final prediction.\n",
        "\n",
        "  * Attention Mechanisms: These custom attention mechanisms, AlphaAttention and BetaAttention, are applied to the outputs of the rnn_a and rnn_b respectively.\n",
        "\n",
        "  * Linear and Sigmoid Output Layers."
      ],
      "metadata": {
        "id": "4A9LSJvnxto0"
      }
    },
    {
      "cell_type": "markdown",
      "source": [
        "The AlphaAttention class which I used for the project draft implemented an attention mechanism that generated alpha weights, which are typically used in the RETAIN model to weigh the contributions of different visits in a sequence. To adapt this class to handle multiple types of medical data inputs ('seqs', 'procs', 'pres', 'labs'), we need to make sure the attention mechanism can be applied to each type separately and then integrate or combine their outputs appropriately.\n",
        "\n",
        "Here’s the new AlphaAttention class to separately compute attention weights for each data type and then combine these weights for a comprehensive model output:"
      ],
      "metadata": {
        "id": "Cs7wwNZDzCOe"
      }
    },
    {
      "cell_type": "code",
      "source": [
        "class AlphaAttention(nn.Module):\n",
        "    def __init__(self, embedding_dim):\n",
        "        super().__init__()\n",
        "        self.a_att = nn.Linear(embedding_dim, 1)\n",
        "\n",
        "    def forward(self, g, rev_masks):\n",
        "        attention_scores = self.a_att(g)\n",
        "\n",
        "        # Apply mask at the visit level\n",
        "        visit_level_masks = rev_masks.any(dim=2).unsqueeze(-1)\n",
        "        attention_scores_masked = attention_scores.masked_fill(~visit_level_masks, -1e9)\n",
        "        alpha = F.softmax(attention_scores_masked, dim=1)\n",
        "\n",
        "        return alpha"
      ],
      "metadata": {
        "id": "akON5ZYHxrXA"
      },
      "execution_count": 105,
      "outputs": []
    },
    {
      "cell_type": "markdown",
      "source": [
        "BetaAttention class implements another attention mechanism used in the RETAIN model, which generates beta weights to modify the embeddings directly, allowing the model to emphasize or deemphasize certain features within each visit. To adapt the BetaAttention class for handling multiple data types ('seqs', 'procs', 'pres', 'labs'), similar to the AlphaAttention modifications, we could consider having separate attention parameters for each data type or a unified approach that leverages shared learning across these types. Here, I extend my implementation to separately compute beta weights for each data type."
      ],
      "metadata": {
        "id": "6E4FKeRl0m8U"
      }
    },
    {
      "cell_type": "code",
      "source": [
        "class BetaAttention(torch.nn.Module):\n",
        "\n",
        "    def __init__(self, embedding_dim):\n",
        "        super().__init__()\n",
        "\n",
        "        self.b_att = nn.Linear(embedding_dim, embedding_dim)\n",
        "\n",
        "    def forward(self, h):\n",
        "        beta_score = self.b_att(h)\n",
        "        beta = torch.tanh(beta_score)\n",
        "\n",
        "        return beta"
      ],
      "metadata": {
        "id": "izrgVdK10ww8"
      },
      "execution_count": 113,
      "outputs": []
    },
    {
      "cell_type": "code",
      "source": [
        "def attention_sum(alpha, beta, rev_v, rev_masks):\n",
        "    \"\"\"\n",
        "    Computes the context vector by applying attention to reverse visit embeddings.\n",
        "\n",
        "    Args:\n",
        "    alpha: Attention weights for visits (tensor of shape [batch_size, num_visits]).\n",
        "    beta: Attention weights for features within visits (tensor of shape [batch_size, num_visits, num_features]).\n",
        "    rev_v: Embeddings for visits (tensor of shape [batch_size, num_visits, num_features]).\n",
        "    rev_masks: Masks indicating valid visits (tensor of shape [batch_size, num_visits, num_features]).\n",
        "\n",
        "    Returns:\n",
        "    c: The context vector for each instance in the batch.\n",
        "    \"\"\"\n",
        "    alpha = alpha.squeeze(-1)  # Ensure alpha is of shape [batch_size, num_visits]\n",
        "    weighted_visits = alpha.unsqueeze(-1) * beta * rev_v  # Apply both attentions\n",
        "\n",
        "    visit_level_masks = rev_masks.any(dim=2)  # Reduce mask to visit level\n",
        "    mask_expanded = visit_level_masks.unsqueeze(-1).expand_as(weighted_visits)\n",
        "    weighted_visits_masked = weighted_visits * mask_expanded  # Apply mask\n",
        "    c = weighted_visits_masked.sum(dim=1)  # Sum over visits to create the context vector\n",
        "\n",
        "    return c"
      ],
      "metadata": {
        "id": "9eBMurYf1nLs"
      },
      "execution_count": 114,
      "outputs": []
    },
    {
      "cell_type": "code",
      "source": [
        "def sum_embeddings_with_mask(x, masks):\n",
        "    \"\"\"\n",
        "    Sum embeddings over the last dimension after applying a mask.\n",
        "\n",
        "    Args:\n",
        "    x: Embeddings (tensor of shape [batch_size, num_items, num_features]).\n",
        "    masks: Masks to apply on embeddings (tensor of shape [batch_size, num_items]).\n",
        "\n",
        "    Returns:\n",
        "    Summed embeddings.\n",
        "    \"\"\"\n",
        "    x = x * masks.unsqueeze(-1)  # Apply the mask by expanding its dimension to match x\n",
        "    x = torch.sum(x, dim=-2)  # Sum across the appropriate dimension (second last)\n",
        "    return x"
      ],
      "metadata": {
        "id": "VC8Hg4tE1t89"
      },
      "execution_count": 115,
      "outputs": []
    },
    {
      "cell_type": "markdown",
      "source": [
        "To adapt the RETAIN model to handle multiple types of medical data ('seqs', 'procs', 'pres', 'labs'), we need to modify the architecture to process each type separately and then combine the results. After computing the context vectors for each data type, these vectors are concatenated. This assumes that each type contributes equally to the final prediction."
      ],
      "metadata": {
        "id": "B-lbVPod2fDS"
      }
    },
    {
      "cell_type": "code",
      "source": [
        "class RETAIN(nn.Module):\n",
        "\n",
        "    def __init__(self, num_codes, embedding_dim=128):\n",
        "        super().__init__()\n",
        "        self.embedding = nn.Embedding(num_codes, embedding_dim)\n",
        "        self.rnn_a = nn.GRU(embedding_dim, embedding_dim, batch_first=True)\n",
        "        self.rnn_b = nn.GRU(embedding_dim, embedding_dim, batch_first=True)\n",
        "        self.att_a = AlphaAttention(embedding_dim)\n",
        "        self.att_b = BetaAttention(embedding_dim)\n",
        "        self.fc = nn.Linear(embedding_dim * 4, 1)  # Adjusted for combined context vectors from multiple types\n",
        "        self.sigmoid = nn.Sigmoid()\n",
        "\n",
        "    def forward(self, **kwargs):\n",
        "        context_vectors = []\n",
        "\n",
        "        for data_type in ['seqs', 'procs', 'pres', 'labs']:\n",
        "            rev_x = self.embedding(kwargs[f'{data_type}_reverse'])\n",
        "            rev_masks = kwargs[f'{data_type}_mask_reverse']\n",
        "            rev_x = sum_embeddings_with_mask(rev_x, rev_masks)\n",
        "\n",
        "            # Process through RNNs\n",
        "            g, _ = self.rnn_a(rev_x)\n",
        "            h, _ = self.rnn_b(rev_x)\n",
        "\n",
        "            # Compute attention weights\n",
        "            alpha = self.att_a(g, rev_masks)\n",
        "            beta = self.att_b(h)\n",
        "\n",
        "            c = attention_sum(alpha, beta, rev_x, rev_masks)\n",
        "            context_vectors.append(c)\n",
        "\n",
        "        combined_context = torch.cat(context_vectors, dim=-1)\n",
        "        logits = self.fc(combined_context)\n",
        "        probs = self.sigmoid(logits)\n",
        "        return probs.squeeze(dim=-1)"
      ],
      "metadata": {
        "id": "iLQoCGi41zCU"
      },
      "execution_count": 122,
      "outputs": []
    },
    {
      "cell_type": "markdown",
      "source": [
        "### Model Training and Evaluation\n",
        "\n",
        "* Hyperparams:\n",
        "\n",
        "  * **Learning rate**: I used a default learning rate of 1e-3 which seemed to work fine for all models.\n",
        "  * **Batch size**: I used a default batch size of 32 which seemed to work fine for all models.\n",
        "  * **Embedding dimension size**: I used a default embedding dimension size of 128 which seemed to work fine for all models.\n",
        "\n",
        "* Computational requirements:\n",
        "\n",
        "  * **Training epochs**: I used a default # of training epochs equal to 10 which seemed to work fine for all models. Some trainings seemed to need even less epocs.\n",
        "  * **Average runtime for each epoch**: For all model, the 10 epocs took roughly around 22 minutes though the naive RNN took less time. This led to an average runtime for each epoch to be roughly around 2 minutes on a Google Colab High-RAM instance.\n",
        "  * **Type of hardware**: I ran the notebook on Google Colab. It used a Python 3 Google Compute Engine backend with System RAM of 51.0 GB and Disk availability of 225.8 GB."
      ],
      "metadata": {
        "id": "O014yTi_30cv"
      }
    },
    {
      "cell_type": "code",
      "source": [
        "# Loading the model\n",
        "retain = RETAIN(num_codes = max_index + 1)\n",
        "retain"
      ],
      "metadata": {
        "colab": {
          "base_uri": "https://localhost:8080/"
        },
        "id": "hkRRR8fl22O0",
        "outputId": "bab5ecfe-8b77-4eda-f200-d21f27bb1b23"
      },
      "execution_count": 123,
      "outputs": [
        {
          "output_type": "execute_result",
          "data": {
            "text/plain": [
              "RETAIN(\n",
              "  (embedding): Embedding(11576, 128)\n",
              "  (rnn_a): GRU(128, 128, batch_first=True)\n",
              "  (rnn_b): GRU(128, 128, batch_first=True)\n",
              "  (att_a): AlphaAttention(\n",
              "    (a_att): Linear(in_features=128, out_features=1, bias=True)\n",
              "  )\n",
              "  (att_b): BetaAttention(\n",
              "    (b_att): Linear(in_features=128, out_features=128, bias=True)\n",
              "  )\n",
              "  (fc): Linear(in_features=512, out_features=1, bias=True)\n",
              "  (sigmoid): Sigmoid()\n",
              ")"
            ]
          },
          "metadata": {},
          "execution_count": 123
        }
      ]
    },
    {
      "cell_type": "code",
      "source": [
        "criterion = nn.BCELoss()\n",
        "optimizer = torch.optim.Adam(retain.parameters(), lr=1e-3)\n",
        "\n",
        "n_epochs = 10\n",
        "roc_aucs = train(retain, train_loader, val_loader, n_epochs)\n",
        "\n",
        "plot_roc_auc(roc_aucs)"
      ],
      "metadata": {
        "colab": {
          "base_uri": "https://localhost:8080/",
          "height": 834
        },
        "id": "zcRTzEBq250x",
        "outputId": "4a13b536-6911-4d49-fc88-9b0bd5a95f34"
      },
      "execution_count": 124,
      "outputs": [
        {
          "output_type": "stream",
          "name": "stdout",
          "text": [
            "Epoch: 1 \t Training Loss: 0.727182\n",
            "Epoch: 1 \t Validation p: 0.78, r: 0.76, f: 0.77, roc_auc: 0.90\n",
            "Epoch: 2 \t Training Loss: 0.275116\n",
            "Epoch: 2 \t Validation p: 0.88, r: 0.88, f: 0.88, roc_auc: 0.97\n",
            "Epoch: 3 \t Training Loss: 0.136549\n",
            "Epoch: 3 \t Validation p: 0.92, r: 0.87, f: 0.89, roc_auc: 0.97\n",
            "Epoch: 4 \t Training Loss: 0.066082\n",
            "Epoch: 4 \t Validation p: 0.91, r: 0.87, f: 0.89, roc_auc: 0.98\n",
            "Epoch: 5 \t Training Loss: 0.037810\n",
            "Epoch: 5 \t Validation p: 0.93, r: 0.86, f: 0.89, roc_auc: 0.97\n",
            "Epoch: 6 \t Training Loss: 0.028759\n",
            "Epoch: 6 \t Validation p: 0.91, r: 0.89, f: 0.90, roc_auc: 0.98\n",
            "Epoch: 7 \t Training Loss: 0.010904\n",
            "Epoch: 7 \t Validation p: 0.95, r: 0.81, f: 0.88, roc_auc: 0.97\n",
            "Epoch: 8 \t Training Loss: 0.013206\n",
            "Epoch: 8 \t Validation p: 0.84, r: 0.95, f: 0.89, roc_auc: 0.98\n",
            "Epoch: 9 \t Training Loss: 0.010506\n",
            "Epoch: 9 \t Validation p: 0.94, r: 0.87, f: 0.90, roc_auc: 0.97\n",
            "Epoch: 10 \t Training Loss: 0.094839\n",
            "Epoch: 10 \t Validation p: 0.84, r: 0.94, f: 0.89, roc_auc: 0.98\n"
          ]
        },
        {
          "output_type": "display_data",
          "data": {
            "text/plain": [
              "<Figure size 1000x500 with 1 Axes>"
            ],
            "image/png": "[encoded data removed]"
          },
          "metadata": {}
        }
      ]
    },
    {
      "cell_type": "markdown",
      "source": [
        "## Metrics descriptions"
      ],
      "metadata": {
        "id": "6JbRsD_teuIs"
      }
    },
    {
      "cell_type": "markdown",
      "source": [
        "Looking at the results, here are some observations:\n",
        "\n",
        "* There is a consistent decrease in training loss from 0.727 in the first epoch to a minimum of 0.095 in the tenth epoch. However, there is a noticeable fluctuation in training loss in the second half of epochs, which might suggest overfitting, instability in the learning process, or sensitivity to specific batches of data used in those epoch.\n",
        "\n",
        "* The model’s precision starts at 0.78 and generally improves, peaking at 0.95 in the seventh epoch. Recall is quite stable across epochs, peaking at 0.95 in the eighth epoch. F-Score remains fairly consistent, peaking at 0.90 in the sixth and ninth epochs, indicating a balanced performance between precision and recall.\n",
        "\n",
        "* The ROC AUC values start at 0.90 and quickly rise to and maintain high levels, peaking at 0.98 several times. The ROC AUC curve shows a clear upward trend across early epochs. The performance seems to plateau very early, which suggests the model approaching its potential limit given the current feature set and architecture."
      ],
      "metadata": {
        "id": "DfhQJuPoG2f-"
      }
    },
    {
      "cell_type": "markdown",
      "source": [
        "# Variable-Level Attention (Replicating the Research Paper)\n",
        "\n",
        "The paper proposes training a recurrent neural network (RNN) in the form of LSTM with the inclusion of a variable-level attention mechanism. Since GRUs are better optimized with roughly a similar performance to LSTMS, I decided to adapt the RETAIN model which uses GRUs but equipped with a variable-level attention.\n",
        "\n",
        "The original RETAIN uses two levels of attention, one at the visit level and another at the variable level. It applies attention to the output of RNNs that encode the entire visit's data, focusing first on which visits to attend to and then on which variables within those visits are important.\n",
        "\n",
        "Our modified RETAIN focuses specifically on variable-level attention without a preceding visit-level focus. It directly applies attention to each variable over time, allowing the model to weigh the importance of each variable."
      ],
      "metadata": {
        "id": "llGJibyDG3lc"
      }
    },
    {
      "cell_type": "code",
      "source": [
        "class VariableLevelAttention(nn.Module):\n",
        "    def __init__(self, embedding_dim):\n",
        "        super().__init__()\n",
        "        self.attention_weights = nn.Linear(embedding_dim, 1)\n",
        "\n",
        "    def forward(self, rnn_output, masks):\n",
        "        # Apply attention across each time step\n",
        "        attention_scores = self.attention_weights(rnn_output)\n",
        "\n",
        "        # Masking to ignore padded values in sequences\n",
        "        visit_level_masks = masks.unsqueeze(-1)  # Ensure mask is the right shape\n",
        "        attention_scores_masked = attention_scores.masked_fill(~visit_level_masks, float('-inf'))\n",
        "\n",
        "        # Applying softmax over time dimension (assuming batch_first=True)\n",
        "        alpha = torch.softmax(attention_scores_masked, dim=1)\n",
        "        return alpha"
      ],
      "metadata": {
        "id": "Ek2Y9E2KIDBP"
      },
      "execution_count": 125,
      "outputs": []
    },
    {
      "cell_type": "code",
      "source": [
        "class VLA(nn.Module):\n",
        "    def __init__(self, num_codes, embedding_dim=128):\n",
        "        super().__init__()\n",
        "        self.embedding = nn.Embedding(num_codes, embedding_dim)\n",
        "        self.rnn = nn.GRU(embedding_dim, embedding_dim, batch_first=True)\n",
        "        self.attention = VariableLevelAttention(embedding_dim)\n",
        "        self.fc = nn.Linear(embedding_dim, 1)  # Adjusted for single context vector per type\n",
        "        self.sigmoid = nn.Sigmoid()\n",
        "\n",
        "    def forward(self, **kwargs):\n",
        "        context_vectors = []\n",
        "\n",
        "        for data_type in ['seqs', 'procs', 'pres', 'labs']:\n",
        "            rev_x = self.embedding(kwargs[f'{data_type}_reverse'])\n",
        "            rev_masks = kwargs[f'{data_type}_mask_reverse']\n",
        "            rev_x = sum_embeddings_with_mask(rev_x, rev_masks)\n",
        "\n",
        "            # GRU processing\n",
        "            rnn_output, _ = self.rnn(rev_x)\n",
        "\n",
        "            # Variable-level attention application\n",
        "            alpha = self.attention(rnn_output, rev_masks)\n",
        "            context_vector = (alpha * rnn_output).sum(dim=1)  # Summing weighted features across time steps\n",
        "            context_vectors.append(context_vector)\n",
        "\n",
        "        combined_context = torch.cat(context_vectors, dim=-1)\n",
        "        logits = self.fc(combined_context)\n",
        "        probs = self.sigmoid(logits)\n",
        "        return probs.squeeze(dim=-1)"
      ],
      "metadata": {
        "id": "Zl3YwmC3IJti"
      },
      "execution_count": 126,
      "outputs": []
    },
    {
      "cell_type": "code",
      "source": [
        "# Loading the model\n",
        "vla = VLA(num_codes = max_index + 1)\n",
        "vla"
      ],
      "metadata": {
        "colab": {
          "base_uri": "https://localhost:8080/"
        },
        "id": "eyW8XMSJIeqE",
        "outputId": "79a210dc-9b4c-4e10-b704-f71c1713018b"
      },
      "execution_count": 127,
      "outputs": [
        {
          "output_type": "execute_result",
          "data": {
            "text/plain": [
              "VLA(\n",
              "  (embedding): Embedding(11576, 128)\n",
              "  (rnn): GRU(128, 128, batch_first=True)\n",
              "  (attention): VariableLevelAttention(\n",
              "    (attention_weights): Linear(in_features=128, out_features=1, bias=True)\n",
              "  )\n",
              "  (fc): Linear(in_features=128, out_features=1, bias=True)\n",
              "  (sigmoid): Sigmoid()\n",
              ")"
            ]
          },
          "metadata": {},
          "execution_count": 127
        }
      ]
    },
    {
      "cell_type": "code",
      "source": [
        "criterion = nn.BCELoss()\n",
        "optimizer = torch.optim.Adam(vla.parameters(), lr=1e-3)\n",
        "\n",
        "n_epochs = 10\n",
        "roc_aucs = train(retain, train_loader, val_loader, n_epochs)\n",
        "\n",
        "plot_roc_auc(roc_aucs)"
      ],
      "metadata": {
        "colab": {
          "base_uri": "https://localhost:8080/",
          "height": 834
        },
        "id": "Yjz3uMoRIkUA",
        "outputId": "443c2cf1-f25c-4e22-ab30-8b8c0babfd64"
      },
      "execution_count": 128,
      "outputs": [
        {
          "output_type": "stream",
          "name": "stdout",
          "text": [
            "Epoch: 1 \t Training Loss: 0.056494\n",
            "Epoch: 1 \t Validation p: 0.84, r: 0.94, f: 0.89, roc_auc: 0.98\n",
            "Epoch: 2 \t Training Loss: 0.056494\n",
            "Epoch: 2 \t Validation p: 0.84, r: 0.94, f: 0.89, roc_auc: 0.98\n",
            "Epoch: 3 \t Training Loss: 0.056493\n",
            "Epoch: 3 \t Validation p: 0.84, r: 0.94, f: 0.89, roc_auc: 0.98\n",
            "Epoch: 4 \t Training Loss: 0.056495\n",
            "Epoch: 4 \t Validation p: 0.84, r: 0.94, f: 0.89, roc_auc: 0.98\n",
            "Epoch: 5 \t Training Loss: 0.056494\n",
            "Epoch: 5 \t Validation p: 0.84, r: 0.94, f: 0.89, roc_auc: 0.98\n",
            "Epoch: 6 \t Training Loss: 0.056493\n",
            "Epoch: 6 \t Validation p: 0.84, r: 0.94, f: 0.89, roc_auc: 0.98\n",
            "Epoch: 7 \t Training Loss: 0.056567\n",
            "Epoch: 7 \t Validation p: 0.84, r: 0.94, f: 0.89, roc_auc: 0.98\n",
            "Epoch: 8 \t Training Loss: 0.056493\n",
            "Epoch: 8 \t Validation p: 0.84, r: 0.94, f: 0.89, roc_auc: 0.98\n",
            "Epoch: 9 \t Training Loss: 0.056494\n",
            "Epoch: 9 \t Validation p: 0.84, r: 0.94, f: 0.89, roc_auc: 0.98\n",
            "Epoch: 10 \t Training Loss: 0.056500\n",
            "Epoch: 10 \t Validation p: 0.84, r: 0.94, f: 0.89, roc_auc: 0.98\n"
          ]
        },
        {
          "output_type": "display_data",
          "data": {
            "text/plain": [
              "<Figure size 1000x500 with 1 Axes>"
            ],
            "image/png": "[encoded data removed]"
          },
          "metadata": {}
        }
      ]
    },
    {
      "cell_type": "markdown",
      "source": [
        "## Metrics descriptions"
      ],
      "metadata": {
        "id": "sjjPlkpKeyEU"
      }
    },
    {
      "cell_type": "markdown",
      "source": [
        "The results and the ROC AUC curve shows a consistent performance across all epochs, which is promising and somewhat unusual, especially with complex datasets used here.\n",
        "\n",
        "* The training loss remains stable across all epochs, hovering around 0.056 with minimal fluctuation. This unusual behaviour suggests that the model may have quickly converged to a local minimum and is not experiencing significant learning progress after the initial training.\n",
        "\n",
        "* The precision, recall, and F-score are consistently reported as 0.84, 0.94, and 0.89, respectively.\n",
        "\n",
        "* The ROC AUC value is consistently high at 0.98 across all epochs. The ROC AUC curve is flat, which typically suggests that the model is performing consistently across different thresholds."
      ],
      "metadata": {
        "id": "o5EQBog3RMGu"
      }
    },
    {
      "cell_type": "markdown",
      "source": [
        "# Results"
      ],
      "metadata": {
        "id": "ba7o0dc56cJX"
      }
    },
    {
      "cell_type": "markdown",
      "source": [
        "Comparing the results from the Naive RNN and RETAIN model with those reported in the paper [1], it is evident that the models used so far show a relatively better performance compared with the LSTM-based model discussed in the paper. Specifically, the RETAIN model achieves a maximum ROC AUC of 0.98, which is slightly higher than the AUC scores reported in the paper for sepsis prediction, which are 0.952 for same-day prediction and 0.876 for next-day prediction."
      ],
      "metadata": {
        "id": "nob8q1sW6gVL"
      }
    },
    {
      "cell_type": "markdown",
      "source": [
        "### Table of results"
      ],
      "metadata": {
        "id": "DFsteuMU6lk6"
      }
    },
    {
      "cell_type": "code",
      "source": [
        "data = {\n",
        "    \"Model Type\": [\n",
        "        \"Paper Model (Same-day)\",\n",
        "        \"Paper Model (Next-day)\",\n",
        "        \"Naive RNN Model\",\n",
        "        \"RETAIN Model\",\n",
        "        \"Modified RETAIN Model\"\n",
        "    ],\n",
        "    \"Prediction Type\": [\n",
        "        \"Same-day\",\n",
        "        \"Next-day\",\n",
        "        \"Not specified\",\n",
        "        \"Not specified\",\n",
        "        \"Not specified\"\n",
        "    ],\n",
        "    \"ROC AUC Score\": [\n",
        "        0.952,\n",
        "        0.876,\n",
        "        0.98,\n",
        "        0.98,\n",
        "        0.98\n",
        "    ]\n",
        "}\n",
        "\n",
        "# Create DataFrame\n",
        "results_df = pd.DataFrame(data)\n",
        "\n",
        "# Print the DataFrame\n",
        "print(results_df)"
      ],
      "metadata": {
        "colab": {
          "base_uri": "https://localhost:8080/"
        },
        "id": "pO8r0RX56u2p",
        "outputId": "a9dec16e-8f71-4a14-f82f-9d9780bbec49"
      },
      "execution_count": 142,
      "outputs": [
        {
          "output_type": "stream",
          "name": "stdout",
          "text": [
            "               Model Type Prediction Type  ROC AUC Score\n",
            "0  Paper Model (Same-day)        Same-day          0.952\n",
            "1  Paper Model (Next-day)        Next-day          0.876\n",
            "2         Naive RNN Model   Not specified          0.980\n",
            "3            RETAIN Model   Not specified          0.980\n",
            "4   Modified RETAIN Model   Not specified          0.980\n"
          ]
        }
      ]
    },
    {
      "cell_type": "markdown",
      "source": [
        "### Possible reasons for differences in results\n",
        "\n",
        "The AUC scores of my implemented models are better, on the face of it, than those reported in the paper. However, these better results does not mean a better data pre-processing, feature engineering, model structure, or hyper-parameter tuning. Below, are a list of ideas I could think of that could have caused such performance:\n",
        "\n",
        "\n",
        "\n",
        "1.   In the paper, the input data to the RNN is sequential and based on time, specifically designed for a daily temporal resolution. Each patient's ICU stay is represented as a sequence where each time step corresponds to a day. This temporal sequencing is critical for analyzing ICU data, where daily clinical measurements and observations can significantly influence the course of treatment and patient outcomes. Specifically, each ICU stay is represented by daily data points up to a maximum of 14 days. The model, then, was trained to predict daily clinical outcomes, such as myocardial infarction, sepsis, and vancomycin administration, based on these daily observations.\n",
        "\n",
        "  In my implementation, however, the RETAIN model handles data sequentially, but the nature of this sequence is governed by visits where each visit contains multiple time points (e.g., each visit has multiple encounters or admissions over time); therefore, the sequence processed by the RNN in RETAIN is based on the sequence of these visits.\n",
        "\n",
        "2. Related to the above note, the paper distinguishes between same-day and next-day AUC. My model's AUC of 0.98 might not directly correspond to either of these since it is not explicitly trained and evaluated under these conditions. The temporal specificity of predictions (same-day vs. next-day) can significantly influence performance metrics, as predicting further into the future (next-day) generally introduces more uncertainty.\n",
        "\n",
        "3. Training and Validation Data: The paper used 70% of input data designated for training, 10% for validation, and 20% for test. My implementation used 80% for training and 20% for validation. Though a noticable difference, I do not think this could play a significant role in performance mismatch.\n",
        "\n",
        "\n",
        "4.   The paper employs statistical transformations (average, max, min, std) of real-valued variables, which help in capturing the variability and trends within clinical measurements over time. These transformations can provide models with the ability to detect subtleties in patient trajectories that raw values or simple encodings may not. Moreover, converting categorical variables into indicator variables (binary features) allows the model in the paper to easily utilize presence or absence data\n",
        "\n",
        "  In my implementation, however, converting diagnosis and procedure codes into numeric IDs might result in a loss of some information compared to more nuanced statistical or categorical encoding. Numeric IDs can help in processing but may not reflect the severity, frequency, or timing of diagnoses and procedures as effectively as other encoding methods.\n",
        "\n",
        "\n",
        "\n"
      ],
      "metadata": {
        "id": "uWfI7DFpJ5sR"
      }
    },
    {
      "cell_type": "markdown",
      "source": [
        "### Ablation Study\n",
        "\n",
        "An ablation study systematically removes parts of the input to a model (or changes in the model architecture) to understand the contribution of various components to the model's performance. Here, we can consider the use of different RNN architectures and the inclusion of an attention mechanism as our ablation components.\n",
        "\n",
        "* **Original Study Model (LSTM with Variable-Level Attention)**:\n",
        "\n",
        "  **Architecture**: Uses LSTM units, which are well-suited for capturing long-term dependencies in sequential data, a critical feature for clinical data that evolves over time.\n",
        "  \n",
        "  **Attention Mechanism**: The variable-level attention mechanism allows the model to focus on the most informative parts of the input data for each time step, which is particularly useful for dynamic and complex medical scenarios like sepsis prediction.\n",
        "  \n",
        "  **Performance**: Achieved a ROC AUC of 0.952 for same-day prediction and 0.876 for next-day prediction, indicating strong performance but with a noticeable drop when extending the prediction horizon.\n",
        "\n",
        "* **Naive RNN Model**:\n",
        "\n",
        "  **Architecture**: Simpler than LSTM, using basic RNN cells which are less capable of handling long-range dependencies and prone to issues like vanishing gradients.\n",
        "  \n",
        "  **No Attention**: Lacks an attention mechanism, which means it treats all parts of the input sequence as equally important.\n",
        "  \n",
        "  **Performance**: Despite its simplicity, this model achieved a ROC AUC of 0.98, suggesting that for the specific dataset and task, complex temporal dynamics might be less critical, or the model might be capturing enough of the short-term dependencies to perform well.\n",
        "\n",
        "* **RETAIN Model**:\n",
        "\n",
        "  **Architecture**: Incorporates a more sophisticated approach with GRUs that can capture dependencies better than basic RNNs but with typically less complexity than LSTMs. RETAIN is designed for interpretability, using two levels of attention (visit-level and variable-level) to explain its predictions.\n",
        "  \n",
        "  **Attention Mechanism**: Allows focusing on important visits and variables, which is ideal for clinical datasets where some events are more predictive of outcomes than others.\n",
        "\n",
        "  **Performance**: Also achieved a ROC AUC of 0.98, demonstrating that incorporating structured, clinically relevant attention mechanisms can significantly enhance model performance by effectively focusing on the most predictive features.\n",
        "\n",
        "* **Modified RETAIN (Variable-Level Attention)**:\n",
        "\n",
        "  **Architecture**: Similar to RETAIN but modifies the attention mechanism to focus solely on variables at each time step, aligning more closely with the original study’s approach.\n",
        "\n",
        "  **Focused Attention**: By concentrating on the importance of each variable at each timestep, this model variant aims to capture more nuanced effects of each input feature, potentially offering better insights into how variables influence the prediction over time.\n",
        "\n",
        "  **Performance**: Maintains a high ROC AUC of 0.98, suggesting that for sepsis prediction, focusing attention at the variable level is as effective as the original RETAIN model's visit and variable-level attentions combined.\n",
        "\n",
        "**Conclusion**\n",
        "\n",
        "This ablation study indicates that while LSTM with variable-level attention is effective, simpler models augmented with attention mechanisms can achieve comparable performance, providing valuable flexibility and efficiency for practical applications in healthcare settings. It also emphasizes the critical role of attention mechanisms in enhancing both performance and interpretability, especially in complex and high-stakes environments like medical predictions. Also, note that the daily temporal nature of the original study is not considered in the implemented models; instead, a full spectrum of patients' visit data are used as input for the sepsis prediction task."
      ],
      "metadata": {
        "id": "yhssPM4e7Mxs"
      }
    },
    {
      "cell_type": "markdown",
      "source": [
        "# Discussion\n",
        "  \n",
        "  * Make assessment that the paper is reproducible or not: The results obtained from my implementation of the Naive RNN, RETAIN, and modified RETAIN model show little differences when compared to the high-performance benchmarks reported in the paper [1]. However, given the complexity of the model proposed in the paper and temporal nature of the input features used, it is most likely that the reported results can be reproduced when these differences are accounte for.\n",
        "  \n",
        "  * Explain why it is not reproducible if your results are kind negative: As mentioned earlier, variations in the features characteristics and preprocessing methods can impact the model's performance; more specifically, the daily temporal nature of the input features of the original paper. This is probably the reason why performance metrics are different compared to those reported in the paper.\n",
        "  \n",
        "  * Describe “What was easy” and “What was difficult” during the reproduction: Implementing the basic architecture of the Naive RNN and RETAIN models with common components like embeddings, GRUs, and linear layers was straightforward due to the availability of these modules in deep learning frameworks like PyTorch as well as the assigned Homeworks. On the other hand, achieving similar performance metrics as reported in the paper was challenging. Also, the temporal nature of the input features, specifically the daily arrangemment of the data, seemed to be a time-taking task.\n",
        "  \n",
        "  * Make suggestions to the author or other reproducers on how to improve the reproducibility: I tried to use the code snippets provided by the authors to see whether I can reproduce the input data as was used by their model. However, the provided code did not run. It raised an error while processing the input data. This is may be due to the fact that MIMIC-III datasets have seen revisions since the paper has been published. A form of container mirroring the dataset as it was would probably help with a successful reproducibility of results though this may violate the privacy terms associated with the MIMIC-III dataset usage.\n",
        "  \n",
        "  * What will you do in next phase:\n",
        "\n",
        "    * Expand Dataset Analysis: Conduct a thorough analysis of the datasets to ensure that they are as similar as possible in terms of preprocessing and feature engineering to what was used in the study, including the temporal nature of the input data.\n",
        "\n",
        "    * Implement the LSTM with attention model proposed in the paper."
      ],
      "metadata": {
        "id": "y4-gXadefxCj"
      }
    },
    {
      "cell_type": "markdown",
      "source": [
        "## Public GitHub Repo\n",
        "\n",
        "Link to a public Github repository: https://github.com/miladparvaneh/CS598_DLH_Project-Final.git"
      ],
      "metadata": {
        "id": "V4t4mMTiAmNG"
      }
    },
    {
      "cell_type": "markdown",
      "source": [
        "# References\n",
        "\n",
        "1.   Kaji, D.A., Zech, J.R., Kim, J.S., Cho, S.K., Dangayach, N.S., Costa, A.B. and Oermann, E.K., 2019. An attention based deep learning model of clinical events in the intensive care unit. PloS one, 14(2), p.e0211057.\n",
        "\n",
        "2.   Henry, K.E., Hager, D.N., Pronovost, P.J. and Saria, S., 2015. A targeted real-time early warning score (TREWScore) for septic shock. Science translational medicine, 7(299), pp.299ra122-299ra122.\n",
        "\n",
        "3.   Vincent, J.L., Moreno, R., Takala, J., Willatts, S., De Mendonça, A., Bruining, H., Reinhart, C.K., Suter, P. and Thijs, L.G., 1996. The SOFA (Sepsis-related Organ Failure Assessment) score to describe organ dysfunction/failure: On behalf of the Working Group on Sepsis-Related Problems of the European Society of Intensive Care Medicine.\n",
        "\n",
        "4. Medical Information Mart for Intensive Care, https://mimic.mit.edu, Last accessed on 03/12/2024.\n",
        "\n",
        "5. MIMIC Code Repository, https://github.com/MIT-LCP/mimic-code, Last accessed on 03/12/2024.\n",
        "\n",
        "6.   Choi, E., Bahadori, M.T., Sun, J., Kulas, J., Schuetz, A. and Stewart, W., 2016. Retain: An interpretable predictive model for healthcare using reverse time attention mechanism. Advances in neural information processing systems, 29."
      ],
      "metadata": {
        "id": "U_l_JLfxidDf"
      }
    },
    {
      "cell_type": "code",
      "source": [],
      "metadata": {
        "id": "FjxmuI1hidqN"
      },
      "execution_count": null,
      "outputs": []
    }
  ]
}